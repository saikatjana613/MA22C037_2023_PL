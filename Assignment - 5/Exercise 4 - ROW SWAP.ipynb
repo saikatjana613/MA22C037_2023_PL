{
 "cells": [
  {
   "cell_type": "code",
   "execution_count": 38,
   "id": "2f668781",
   "metadata": {},
   "outputs": [],
   "source": [
    "import numpy as np "
   ]
  },
  {
   "cell_type": "code",
   "execution_count": 39,
   "id": "ff1fdbd6",
   "metadata": {},
   "outputs": [],
   "source": [
    "def given_swap_row(i, j, A):\n",
    "    tmp = A[i, :]\n",
    "    A[i, :] = A[j, :]  \n",
    "    A[j, :] = tmp \n",
    "    return A   "
   ]
  },
  {
   "cell_type": "code",
   "execution_count": 40,
   "id": "2e7203be",
   "metadata": {},
   "outputs": [
    {
     "name": "stdout",
     "output_type": "stream",
     "text": [
      "[[7 8 9]\n",
      " [4 5 6]\n",
      " [7 8 9]]\n"
     ]
    }
   ],
   "source": [
    "A = np.array([[1, 2, 3],[4, 5, 6],[7, 8, 9]])\n",
    "\n",
    "result = given_swap_row(0, 2, A)\n",
    "\n",
    "print(result)\n"
   ]
  },
  {
   "cell_type": "code",
   "execution_count": 41,
   "id": "aaa13d77",
   "metadata": {},
   "outputs": [],
   "source": [
    "# There is a error in the given code.Now we modifiy this code and re write"
   ]
  },
  {
   "cell_type": "code",
   "execution_count": 42,
   "id": "cbd4d454",
   "metadata": {},
   "outputs": [],
   "source": [
    "# METHOD-1 : If we restrict the parameters of the indices i,j of the matrix then modified code will be run."
   ]
  },
  {
   "cell_type": "code",
   "execution_count": 43,
   "id": "a58fb18c",
   "metadata": {},
   "outputs": [],
   "source": [
    "def modified_1_swap_rows(i, j, A):\n",
    "    if i < 0 or i >= len(A) or j < 0 or j >=len(A):\n",
    "        print(\"Invalid row indices.\")\n",
    "    else:\n",
    "        tmp = A[i, :].copy()  \n",
    "        A[i, :] = A[j, :]\n",
    "        A[j, :] = tmp\n",
    "    return A\n"
   ]
  },
  {
   "cell_type": "code",
   "execution_count": 44,
   "id": "2a2211f0",
   "metadata": {},
   "outputs": [
    {
     "name": "stdout",
     "output_type": "stream",
     "text": [
      "[[1 2 3]\n",
      " [7 8 9]\n",
      " [4 5 6]]\n"
     ]
    }
   ],
   "source": [
    "A = np.array([[1, 2, 3],[4, 5, 6],[7, 8, 9]])\n",
    "\n",
    "result = modified_1_swap_rows(1, 2, A)\n",
    "\n",
    "print(result)\n"
   ]
  },
  {
   "cell_type": "code",
   "execution_count": 45,
   "id": "0971c736",
   "metadata": {},
   "outputs": [],
   "source": [
    "# METHOD-2 : If we use in-built function A[[i, j]] = A[[j, i]] then the code will run."
   ]
  },
  {
   "cell_type": "code",
   "execution_count": 46,
   "id": "1216e8da",
   "metadata": {},
   "outputs": [],
   "source": [
    "import numpy as np\n",
    "\n",
    "def modified_2_swap_rows(i, j, A):\n",
    "    tmp = A[i, :].copy() \n",
    "    A[[i, j]] = A[[j, i]]\n",
    "    return A"
   ]
  },
  {
   "cell_type": "code",
   "execution_count": 47,
   "id": "936d0b7d",
   "metadata": {},
   "outputs": [
    {
     "name": "stdout",
     "output_type": "stream",
     "text": [
      "[[4 5 6]\n",
      " [1 2 3]\n",
      " [7 8 9]]\n"
     ]
    }
   ],
   "source": [
    "A = np.array([[1, 2, 3],[4, 5, 6],[7, 8, 9]])\n",
    "\n",
    "result = modified_2_swap_rows(0, 1, A)\n",
    "\n",
    "print(result)"
   ]
  }
 ],
 "metadata": {
  "kernelspec": {
   "display_name": "Python 3 (ipykernel)",
   "language": "python",
   "name": "python3"
  },
  "language_info": {
   "codemirror_mode": {
    "name": "ipython",
    "version": 3
   },
   "file_extension": ".py",
   "mimetype": "text/x-python",
   "name": "python",
   "nbconvert_exporter": "python",
   "pygments_lexer": "ipython3",
   "version": "3.11.3"
  }
 },
 "nbformat": 4,
 "nbformat_minor": 5
}
