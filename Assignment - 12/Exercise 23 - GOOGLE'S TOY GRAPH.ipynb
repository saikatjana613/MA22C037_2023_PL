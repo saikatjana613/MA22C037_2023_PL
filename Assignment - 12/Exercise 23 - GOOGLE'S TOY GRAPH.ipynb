{
  "cells": [
    {
      "cell_type": "markdown",
      "metadata": {
        "colab_type": "text",
        "id": "view-in-github"
      },
      "source": [
        "<a href=\"https://colab.research.google.com/github/mhaletoki/MA22C025_2023_PL/blob/main/Assignments/Assignment_12/Google's_toy.ipynb\" target=\"_parent\"><img src=\"https://colab.research.google.com/assets/colab-badge.svg\" alt=\"Open In Colab\"/></a>"
      ]
    },
    {
      "cell_type": "code",
      "execution_count": 1,
      "metadata": {
        "id": "AouL7T5xwJWx"
      },
      "outputs": [],
      "source": [
        "import os\n",
        "import urllib\n",
        "import shutil\n",
        "import numpy as np\n",
        "import gzip"
      ]
    },
    {
      "cell_type": "code",
      "execution_count": 2,
      "metadata": {
        "id": "x3tVU6yLxAL_"
      },
      "outputs": [],
      "source": [
        "# The file is located here:\n",
        "url = \"https://snap.stanford.edu/data/web-Google.txt.gz\"\n",
        "\n",
        "# Download and copy it here using the code below:\n",
        "f= 'web-Google.txt.gz'\n",
        "\n",
        "if not os.path.exists(f):\n",
        "    r = urllib.request.urlopen(url)\n",
        "    with open(f, 'wb') as fo:\n",
        "        shutil.copyfileobj(r, fo)"
      ]
    },
    {
      "cell_type": "code",
      "execution_count": 3,
      "metadata": {
        "id": "juUmWH7nyG5A"
      },
      "outputs": [],
      "source": [
        "# Load the graph data from the file\n",
        "def load_Gdata(filename):\n",
        "    graph = {}\n",
        "    with gzip.open(filename, 'rt') as file:\n",
        "        for line in file:\n",
        "            if line.startswith(\"#\"):\n",
        "                continue\n",
        "            else:\n",
        "                parts = line.strip().split()\n",
        "                source, target = int(parts[0]), int(parts[1])\n",
        "                if source not in graph:\n",
        "                    graph[source] = []\n",
        "                graph[source].append(target)\n",
        "    return graph"
      ]
    },
    {
      "cell_type": "code",
      "execution_count": 4,
      "metadata": {
        "id": "jtOASM_g0piT"
      },
      "outputs": [],
      "source": [
        "graph = load_Gdata(f)"
      ]
    },
    {
      "cell_type": "code",
      "execution_count": 5,
      "metadata": {
        "id": "2PowJotY1B_Q"
      },
      "outputs": [],
      "source": [
        "# Initialize PageRank values for all vertices\n",
        "num_vertices = len(graph)\n",
        "pagerank = np.ones(num_vertices) / num_vertices"
      ]
    },
    {
      "cell_type": "code",
      "execution_count": 6,
      "metadata": {
        "id": "SuuwqqC01JRs"
      },
      "outputs": [],
      "source": [
        "# Implement the power iteration method to compute PageRank\n",
        "def power_iteration(graph, damping_factor=0.85, num_iterations=100):\n",
        "    num_vertices = len(graph)\n",
        "    initial_pagerank = np.ones(num_vertices) / num_vertices\n",
        "\n",
        "    for _ in range(num_iterations):\n",
        "        new_pagerank = np.zeros(num_vertices)\n",
        "        for vertex in graph:\n",
        "            num_neighbors = len(graph[vertex])\n",
        "            if num_neighbors == 0:\n",
        "                new_pagerank += damping_factor * initial_pagerank[vertex] / num_vertices\n",
        "            else:\n",
        "                for neighbor in graph[vertex]:\n",
        "                    new_pagerank[neighbor] += damping_factor * initial_pagerank[vertex] / num_neighbors\n",
        "        new_pagerank += (1 - damping_factor) / num_vertices\n",
        "        initial_pagerank = new_pagerank\n",
        "\n",
        "    return initial_pagerank\n"
      ]
    },
    {
      "cell_type": "code",
      "execution_count": 7,
      "metadata": {
        "id": "7TEG-PTv1NjH"
      },
      "outputs": [
        {
          "data": {
            "text/plain": [
              "array([1.35234917e-06, 1.35234917e-06, 1.35234917e-06, ...,\n",
              "       1.35234917e-06, 1.35234917e-06, 1.35234917e-06])"
            ]
          },
          "execution_count": 7,
          "metadata": {},
          "output_type": "execute_result"
        }
      ],
      "source": [
        "# Initialize PageRank values for all vertices\n",
        "num_vertices = len(graph)\n",
        "pagerank = np.ones(num_vertices) / num_vertices\n",
        "\n",
        "pagerank"
      ]
    }
  ],
  "metadata": {
    "colab": {
      "authorship_tag": "ABX9TyPGKQZbozWa9erCuc5L0z3s",
      "include_colab_link": true,
      "provenance": []
    },
    "kernelspec": {
      "display_name": "Python 3",
      "name": "python3"
    },
    "language_info": {
      "codemirror_mode": {
        "name": "ipython",
        "version": 3
      },
      "file_extension": ".py",
      "mimetype": "text/x-python",
      "name": "python",
      "nbconvert_exporter": "python",
      "pygments_lexer": "ipython3",
      "version": "3.10.12"
    }
  },
  "nbformat": 4,
  "nbformat_minor": 0
}
