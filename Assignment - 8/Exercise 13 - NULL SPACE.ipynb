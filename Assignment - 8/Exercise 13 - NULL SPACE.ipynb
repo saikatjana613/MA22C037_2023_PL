{
 "cells": [
  {
   "cell_type": "code",
   "execution_count": 15,
   "id": "e28ad2d4",
   "metadata": {},
   "outputs": [
    {
     "data": {
      "text/plain": [
       "array([[ 1, -2,  9,  5,  4],\n",
       "       [ 1, -1,  6,  5, -3],\n",
       "       [-2,  0, -6,  1, -2],\n",
       "       [ 4,  1,  9,  1, -9]])"
      ]
     },
     "execution_count": 15,
     "metadata": {},
     "output_type": "execute_result"
    }
   ],
   "source": [
    "import numpy as np\n",
    "from scipy.linalg import svd, qr\n",
    "A = np.array([[1, -2, 9, 5, 4,], [1, -1, 6, 5, -3], [-2, 0, -6, 1, -2],[4, 1, 9, 1, -9]])\n",
    "A"
   ]
  },
  {
   "cell_type": "code",
   "execution_count": 16,
   "id": "42a30b2b",
   "metadata": {},
   "outputs": [],
   "source": [
    "# Task - 1"
   ]
  },
  {
   "cell_type": "code",
   "execution_count": 17,
   "id": "ac681c24",
   "metadata": {},
   "outputs": [
    {
     "name": "stdout",
     "output_type": "stream",
     "text": [
      "Null Space Vectors:\n",
      "[[[ 0.87219483]]\n",
      "\n",
      " [[-0.3573579 ]]\n",
      "\n",
      " [[-0.29073161]]\n",
      "\n",
      " [[ 0.14709627]]\n",
      "\n",
      " [[ 0.07354813]]]\n"
     ]
    }
   ],
   "source": [
    "# Perform SVD\n",
    "U, S, VT = svd(A)\n",
    "\n",
    "# Find indices of singular values close to zero\n",
    "tolerance = 1e-10\n",
    "null_space_indices = np.where(S < tolerance)\n",
    "\n",
    "# Extract corresponding right singular vectors\n",
    "null_space_vectors = VT.T[:, null_space_indices]\n",
    "\n",
    "# Display the null space vectors\n",
    "print(\"Null Space Vectors:\")\n",
    "print(null_space_vectors)\n",
    "null_space_vectors_svd = null_space_vectors"
   ]
  },
  {
   "cell_type": "code",
   "execution_count": 18,
   "id": "8c731683",
   "metadata": {},
   "outputs": [],
   "source": [
    "# Task - 2"
   ]
  },
  {
   "cell_type": "code",
   "execution_count": 19,
   "id": "09de9eaa",
   "metadata": {},
   "outputs": [
    {
     "name": "stdout",
     "output_type": "stream",
     "text": [
      "Null Space Vectors:\n",
      "[[ 0.86110487]\n",
      " [-0.3919859 ]\n",
      " [-0.28703496]\n",
      " [ 0.13403399]\n",
      " [ 0.067017  ]]\n"
     ]
    }
   ],
   "source": [
    "# Transpose of A\n",
    "AT = A.T\n",
    "\n",
    "# Perform QR factorization on the transpose of A\n",
    "Q, R = qr(AT)\n",
    "\n",
    "# The null space vectors are the columns of Q corresponding to zero columns in R\n",
    "null_space_indices = np.where(np.abs(np.diagonal(R)) < 1e-10)[0]\n",
    "null_space_vectors = Q[:, null_space_indices]\n",
    "\n",
    "# Display the null space vectors\n",
    "print(\"Null Space Vectors:\")\n",
    "print(null_space_vectors)\n",
    "null_space_vectors_qr = null_space_vectors"
   ]
  },
  {
   "cell_type": "code",
   "execution_count": 20,
   "id": "3f54613d",
   "metadata": {},
   "outputs": [],
   "source": [
    "# Tasl - 3"
   ]
  },
  {
   "cell_type": "code",
   "execution_count": 21,
   "id": "1780c11a",
   "metadata": {},
   "outputs": [
    {
     "name": "stdout",
     "output_type": "stream",
     "text": [
      "The spans are equal.\n"
     ]
    }
   ],
   "source": [
    "# Check if the spans are equal\n",
    "span_svd = np.linalg.matrix_rank(null_space_vectors_svd[0])\n",
    "span_qr = np.linalg.matrix_rank(null_space_vectors_qr)\n",
    "\n",
    "if span_svd == span_qr:\n",
    "    print(f\"The spans are equal.\")\n",
    "else:\n",
    "    print(f\"The spans are not equal.\")"
   ]
  }
 ],
 "metadata": {
  "kernelspec": {
   "display_name": "Python 3 (ipykernel)",
   "language": "python",
   "name": "python3"
  },
  "language_info": {
   "codemirror_mode": {
    "name": "ipython",
    "version": 3
   },
   "file_extension": ".py",
   "mimetype": "text/x-python",
   "name": "python",
   "nbconvert_exporter": "python",
   "pygments_lexer": "ipython3",
   "version": "3.11.3"
  }
 },
 "nbformat": 4,
 "nbformat_minor": 5
}
