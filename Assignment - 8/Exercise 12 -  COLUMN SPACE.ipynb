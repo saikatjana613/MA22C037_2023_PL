{
 "cells": [
  {
   "cell_type": "code",
   "execution_count": 10,
   "id": "489ac27d",
   "metadata": {},
   "outputs": [
    {
     "name": "stdout",
     "output_type": "stream",
     "text": [
      "[[ 1 -2  3 -3]\n",
      " [ 2 -4  9 -2]\n",
      " [-3  6 -9  9]]\n"
     ]
    }
   ],
   "source": [
    "import numpy as np\n",
    "import timeit\n",
    "from scipy.linalg import svd, qr\n",
    "A = np.array([[1, -2, 3, -3], [2, -4, 9, -2], [-3, 6, -9, 9]])\n",
    "print(A)"
   ]
  },
  {
   "cell_type": "code",
   "execution_count": 11,
   "id": "efd04e5b",
   "metadata": {},
   "outputs": [],
   "source": [
    "# Task - 1"
   ]
  },
  {
   "cell_type": "code",
   "execution_count": 12,
   "id": "23c1b888",
   "metadata": {},
   "outputs": [
    {
     "name": "stdout",
     "output_type": "stream",
     "text": [
      "Basis for Column Space using QR Factorization:\n",
      "[[-0.26726124  0.95618289 -0.11952286]\n",
      " [-0.53452248 -0.04390192  0.84401323]\n",
      " [ 0.80178373  0.28945968  0.52283453]]\n"
     ]
    }
   ],
   "source": [
    "# Using QR Factorization\n",
    "Q, R = qr(A)\n",
    "basis_qr = Q\n",
    "print(\"Basis for Column Space using QR Factorization:\")\n",
    "print(basis_qr)"
   ]
  },
  {
   "cell_type": "code",
   "execution_count": 13,
   "id": "6d4b4f3b",
   "metadata": {},
   "outputs": [
    {
     "name": "stdout",
     "output_type": "stream",
     "text": [
      "\n",
      "Basis for Column Space using SVD:\n",
      "[[-0.26623586 -0.17064134]\n",
      " [-0.5396153   0.84191171]\n",
      " [ 0.79870758  0.51192403]]\n"
     ]
    }
   ],
   "source": [
    "# Using SVD\n",
    "U, S, Vt = svd(A)\n",
    "basis_svd = U[:, :np.linalg.matrix_rank(A)]\n",
    "print(\"\\nBasis for Column Space using SVD:\")\n",
    "print(basis_svd)             "
   ]
  },
  {
   "cell_type": "code",
   "execution_count": 14,
   "id": "b178b275",
   "metadata": {},
   "outputs": [],
   "source": [
    "# Task - 2"
   ]
  },
  {
   "cell_type": "code",
   "execution_count": 15,
   "id": "f862e7aa",
   "metadata": {},
   "outputs": [
    {
     "name": "stdout",
     "output_type": "stream",
     "text": [
      "Is Basis QR a linear combination of Basis SVD? False\n",
      "Is Basis SVD a linear combination of Basis QR? False\n"
     ]
    }
   ],
   "source": [
    "#Check if Basis QR can be expressed as a linear combination of Basis SVD\n",
    "qr_in_svd = all(np.isclose(basis_svd.T @ basis_qr[:, i], 0).all() for i in range(basis_qr.shape[1]))\n",
    "\n",
    "# Check if Basis SVD can be expressed as a linear combination of Basis QR\n",
    "svd_in_qr = all(np.isclose(basis_qr.T @ basis_svd[:, i], 0).all() for i in range(basis_svd.shape[1]))\n",
    "\n",
    "# Print the results\n",
    "print(\"Is Basis QR a linear combination of Basis SVD?\", qr_in_svd)\n",
    "print(\"Is Basis SVD a linear combination of Basis QR?\", svd_in_qr)\n"
   ]
  },
  {
   "cell_type": "code",
   "execution_count": 16,
   "id": "9276ad0b",
   "metadata": {},
   "outputs": [],
   "source": [
    "# Task - 3"
   ]
  },
  {
   "cell_type": "code",
   "execution_count": 20,
   "id": "0634c2b8",
   "metadata": {},
   "outputs": [
    {
     "name": "stdout",
     "output_type": "stream",
     "text": [
      "Time taken using QR factorization: 0.01252 seconds\n",
      "Time taken using SVD: 0.06705 seconds\n"
     ]
    }
   ],
   "source": [
    "# Generate a random 500x500 matrix\n",
    "random_matrix = np.random.rand(500, 500)\n",
    "\n",
    "# Define the functions for QR and SVD methods\n",
    "def basis_qr():\n",
    "    Q, R = qr(random_matrix)\n",
    "    return Q\n",
    "\n",
    "def basis_svd():\n",
    "    U, S, Vt = svd(random_matrix)\n",
    "    return U[:, :np.linalg.matrix_rank(random_matrix)]\n",
    "\n",
    "# Measure the execution time for each method\n",
    "time_qr = timeit.timeit(basis_qr, number=1)\n",
    "time_svd = timeit.timeit(basis_svd, number=1)\n",
    "\n",
    "# Print the execution times\n",
    "print(f\"Time taken using QR factorization: {time_qr:.5f} seconds\")\n",
    "print(f\"Time taken using SVD: {time_svd:.5f} seconds\")"
   ]
  },
  {
   "cell_type": "code",
   "execution_count": 22,
   "id": "0b5e8f31",
   "metadata": {},
   "outputs": [
    {
     "name": "stdout",
     "output_type": "stream",
     "text": [
      "QR factorization is faster.\n"
     ]
    }
   ],
   "source": [
    "# Compare the execution times\n",
    "if time_qr < time_svd:\n",
    "    conclusion = \"QR factorization is faster.\"\n",
    "elif time_qr > time_svd:\n",
    "    conclusion = \"SVD is faster.\"\n",
    "else:\n",
    "    conclusion = \"QR factorization and SVD have similar execution times.\"\n",
    "\n",
    "# Print the conclusion\n",
    "print(conclusion)"
   ]
  }
 ],
 "metadata": {
  "kernelspec": {
   "display_name": "Python 3 (ipykernel)",
   "language": "python",
   "name": "python3"
  },
  "language_info": {
   "codemirror_mode": {
    "name": "ipython",
    "version": 3
   },
   "file_extension": ".py",
   "mimetype": "text/x-python",
   "name": "python",
   "nbconvert_exporter": "python",
   "pygments_lexer": "ipython3",
   "version": "3.11.3"
  }
 },
 "nbformat": 4,
 "nbformat_minor": 5
}
