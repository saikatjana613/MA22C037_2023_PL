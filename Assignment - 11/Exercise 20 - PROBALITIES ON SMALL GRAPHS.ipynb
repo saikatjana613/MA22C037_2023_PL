{
  "cells": [
    {
      "cell_type": "code",
      "execution_count": 7,
      "metadata": {
        "colab": {
          "base_uri": "https://localhost:8080/"
        },
        "id": "E_xfrgHDGzgR",
        "outputId": "cf648449-4ff3-4eb8-c526-a0b7c03272bc"
      },
      "outputs": [
        {
          "name": "stdout",
          "output_type": "stream",
          "text": [
            "Probability of hitting state 0 from state 3: 0.2857\n",
            "Probability of hitting state 1 from state 3: 0.2857\n",
            "Probability of hitting state 2 from state 3: 0.1429\n"
          ]
        }
      ],
      "source": [
        "import numpy as np\n",
        "\n",
        "# Define the transition probability matrix P for the given Markov chain\n",
        "P = np.array([[0, 0.0, 0.5, 0.5],  # S0\n",
        "              [1.0, 0.0, 0.0, 0.0],  # S1\n",
        "              [0.0, 0.0, 0.0, 1.0],  # S2\n",
        "              [0, 1.0, 0.0, 0.0]])  # S3\n",
        "\n",
        "starting_state = 3\n",
        "target_states = [0, 1, 2]\n",
        "\n",
        "# Create a function to calculate the probability of reaching the target_states from the starting_state\n",
        "def probability_to_reach_states(P, starting_state, target_states, steps):\n",
        "    P_n = np.linalg.matrix_power(P, steps)\n",
        "    probabilities = [P_n[starting_state, target_state] for target_state in target_states]\n",
        "    return probabilities\n",
        "\n",
        "# Calculate the probabilities for each target state\n",
        "probabilities = probability_to_reach_states(P, starting_state, target_states, steps=100)\n",
        "\n",
        "# Print the probabilities for each target state\n",
        "for i, target_state in enumerate(target_states):\n",
        "    print(f\"Probability of hitting state {target_state} from state {starting_state}: {probabilities[i]:.4f}\")\n"
      ]
    },
    {
      "cell_type": "code",
      "execution_count": 8,
      "metadata": {
        "colab": {
          "base_uri": "https://localhost:8080/"
        },
        "id": "A4dHeK4TIHXS",
        "outputId": "e132eea9-19d6-4608-f191-8983d2105acb"
      },
      "outputs": [
        {
          "name": "stdout",
          "output_type": "stream",
          "text": [
            "Probability of hitting state 3 starting from state 0: 0.2857\n",
            "Probability of hitting state 3 starting from state 1: 0.2857\n",
            "Probability of hitting state 3 starting from state 2: 0.1429\n"
          ]
        }
      ],
      "source": [
        "# Define the set of starting states\n",
        "starting_states = [0, 1, 2]\n",
        "\n",
        "# Define the target state\n",
        "target_state = 3\n",
        "\n",
        "# Print the probabilities for each starting state in the starting_states list\n",
        "for starting_state in starting_states:\n",
        "    print(\"Probability of hitting state {} starting from state {}: {:.4f}\".format(target_state, starting_state, probabilities[starting_state]))"
      ]
    },
    {
      "cell_type": "code",
      "execution_count": 9,
      "metadata": {
        "colab": {
          "base_uri": "https://localhost:8080/"
        },
        "id": "5QKcX0lNIblJ",
        "outputId": "17236db3-0a67-49e4-ce6b-0f5a7bb349a7"
      },
      "outputs": [
        {
          "name": "stdout",
          "output_type": "stream",
          "text": [
            "State 0 can reach an absorbing state.\n",
            "State 1 cannot reach an absorbing state.\n",
            "State 2 can reach an absorbing state.\n",
            "State 3 can reach an absorbing state.\n",
            "The Markov chain is not absorbing.\n"
          ]
        }
      ],
      "source": [
        "import numpy as np\n",
        "\n",
        "def check_absorbing_states(P, absorbing_states):\n",
        "    for state in range(len(P)):\n",
        "        can_reach_absorbing = any(P[state, absorbing_states] > 0)\n",
        "        if can_reach_absorbing:\n",
        "            print(f\"State {state} can reach an absorbing state.\")\n",
        "        else:\n",
        "            print(f\"State {state} cannot reach an absorbing state.\")\n",
        "\n",
        "def is_chain_absorbing(P, absorbing_states):\n",
        "    eigenvalues, eigenvectors = np.linalg.eig(P.T)\n",
        "\n",
        "    for i, eigenvalue in enumerate(eigenvalues):\n",
        "        if np.isclose(eigenvalue, 1.0):\n",
        "            eigenvector = eigenvectors[:, i]\n",
        "            if all(eigenvector[absorbing_states] == 1) and all(eigenvector[~np.isin(range(len(P)), absorbing_states)] == 0):\n",
        "                return True\n",
        "\n",
        "    return False\n",
        "\n",
        "# Check if any state can reach an absorbing state\n",
        "absorbing_states = [1, 3]\n",
        "check_absorbing_states(P, absorbing_states)\n",
        "\n",
        "# Method 2: Check if the Markov chain is absorbing using eigenvalues and eigenvectors\n",
        "if is_chain_absorbing(P, absorbing_states):\n",
        "    print(\"The Markov chain is absorbing.\")\n",
        "else:\n",
        "    print(\"The Markov chain is not absorbing.\")\n"
      ]
    },
    {
      "cell_type": "code",
      "execution_count": 10,
      "metadata": {
        "id": "6T00FqsWIusv"
      },
      "outputs": [
        {
          "name": "stdout",
          "output_type": "stream",
          "text": [
            "Hitting probability of state 0 from the remaining states: 0.0000\n",
            "Hitting probability of state 1 from the remaining states: 0.0000\n",
            "Hitting probability of state 2 from the remaining states: 0.0000\n"
          ]
        }
      ],
      "source": [
        "# Ensure all states can communicate with each other\n",
        "# Add transitions from S0 to S1 and from S2 to S3\n",
        "P = np.zeros((4, 4))\n",
        "P[0, 1] = 0.5\n",
        "P[2, 3] = 0.5\n",
        "\n",
        "# Define the set of states A = {0, 1, 2}\n",
        "A = [0, 1, 2]\n",
        "\n",
        "# Calculate the fundamental matrix N\n",
        "N = np.linalg.inv(np.identity(len(P)) - P)\n",
        "\n",
        "# Calculate the hitting probabilities of states in A from the remaining states\n",
        "hitting_probabilities = np.zeros(len(P))\n",
        "\n",
        "for state in range(len(P)):\n",
        "    if state not in A:\n",
        "        hitting_probabilities[A] += N[state, A]\n",
        "\n",
        "# Print the hitting probabilities\n",
        "for i, state in enumerate(A):\n",
        "    print(f\"Hitting probability of state {state} from the remaining states: {hitting_probabilities[i]:.4f}\")\n"
      ]
    },
    {
      "cell_type": "code",
      "execution_count": 11,
      "metadata": {
        "id": "YW5jDK-nKc1v"
      },
      "outputs": [
        {
          "name": "stdout",
          "output_type": "stream",
          "text": [
            "Hitting probability of state 3 from the remaining states: 1.5000\n"
          ]
        }
      ],
      "source": [
        "import numpy as np\n",
        "\n",
        "# Ensure all states can communicate with each other\n",
        "# Add transitions from S0 to S1 and from S2 to S3\n",
        "P = np.zeros((4, 4))\n",
        "P[0, 1] = 0.5\n",
        "P[2, 3] = 0.5\n",
        "\n",
        "# Define the set of states A = {3}\n",
        "A = [3]\n",
        "\n",
        "# Calculate the fundamental matrix N\n",
        "I = np.identity(len(P))\n",
        "N = np.linalg.inv(I - P)\n",
        "\n",
        "# Calculate the hitting probabilities of state 3 from the remaining states\n",
        "hitting_probabilities = np.sum(N[:, A], axis=0)\n",
        "\n",
        "# Print the hitting probabilities\n",
        "print(f\"Hitting probability of state 3 from the remaining states: {hitting_probabilities[0]:.4f}\")"
      ]
    }
  ],
  "metadata": {
    "colab": {
      "authorship_tag": "ABX9TyNQJpC6Sbc5ZT4AcBgAcLqp",
      "include_colab_link": true,
      "provenance": []
    },
    "kernelspec": {
      "display_name": "Python 3",
      "name": "python3"
    },
    "language_info": {
      "codemirror_mode": {
        "name": "ipython",
        "version": 3
      },
      "file_extension": ".py",
      "mimetype": "text/x-python",
      "name": "python",
      "nbconvert_exporter": "python",
      "pygments_lexer": "ipython3",
      "version": "3.10.12"
    }
  },
  "nbformat": 4,
  "nbformat_minor": 0
}
