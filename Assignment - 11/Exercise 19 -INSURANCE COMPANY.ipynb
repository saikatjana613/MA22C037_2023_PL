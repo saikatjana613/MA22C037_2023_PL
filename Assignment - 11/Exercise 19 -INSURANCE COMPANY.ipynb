{
 "cells": [
  {
   "cell_type": "code",
   "execution_count": 16,
   "metadata": {},
   "outputs": [
    {
     "name": "stdout",
     "output_type": "stream",
     "text": [
      "Probability of ruin: 0.0206\n"
     ]
    }
   ],
   "source": [
    "def probability_of_ruin(initial_reserve, daily_earnings, claim_probability):\n",
    "    # Create a list to store the probabilities of ruin for each reserve value.\n",
    "    # Initialize with all probabilities as 0.\n",
    "    P = [0.0] * (initial_reserve + 1)\n",
    "    \n",
    "    # Base case: P(0) = 1 (company is already ruined when reserve is 0).\n",
    "    P[0] = 1.0\n",
    "    \n",
    "    # Iterate from 1 to the initial reserve.\n",
    "    for r in range(1, initial_reserve + 1):\n",
    "        # Calculate the probability of earning $100 and the probability of incurring a $200 claim.\n",
    "        p_earn = 1 - claim_probability\n",
    "        p_claim = claim_probability\n",
    "        \n",
    "        # Calculate P(r) using the recursive relationship.\n",
    "        P[r] = p_earn * P[min(r + daily_earnings, initial_reserve)] + p_claim * P[max(r - 2*daily_earnings, 0)]\n",
    "    \n",
    "    # The probability of ruin starting with the initial reserve is P(initial_reserve).\n",
    "    return P[initial_reserve]\n",
    "\n",
    "# Parameters\n",
    "initial_reserve = 1000\n",
    "daily_earnings = 100\n",
    "claim_probability = 0.46\n",
    "\n",
    "# Calculate the probability of ruin\n",
    "probability_ruin = probability_of_ruin(initial_reserve, daily_earnings, claim_probability)\n",
    "print(f\"Probability of ruin: {probability_ruin:.4f}\")\n"
   ]
  },
  {
   "cell_type": "code",
   "execution_count": 17,
   "metadata": {},
   "outputs": [
    {
     "name": "stdout",
     "output_type": "stream",
     "text": [
      "The reserve to make the probability of the ruin less than 0.1% is: 1601\n"
     ]
    }
   ],
   "source": [
    "r=0\n",
    "while probability_of_ruin(r, daily_earnings, claim_probability) > 0.001:\n",
    "    r=r+1\n",
    "print(\"The reserve to make the probability of the ruin less than 0.1% is:\",r)"
   ]
  },
  {
   "cell_type": "code",
   "execution_count": 18,
   "metadata": {},
   "outputs": [
    {
     "name": "stdout",
     "output_type": "stream",
     "text": [
      "With 1601 reserve the probability of ruin is 0.0009 which is less than 0.001\n"
     ]
    }
   ],
   "source": [
    "reserve=1601\n",
    "\n",
    "probability_ruin = probability_of_ruin(reserve, daily_earnings, claim_probability)\n",
    "print(f\"With 1601 reserve the probability of ruin is {probability_ruin:.4f} which is less than 0.001\")"
   ]
  }
 ],
 "metadata": {
  "kernelspec": {
   "display_name": "iitm_PL",
   "language": "python",
   "name": "python3"
  },
  "language_info": {
   "codemirror_mode": {
    "name": "ipython",
    "version": 3
   },
   "file_extension": ".py",
   "mimetype": "text/x-python",
   "name": "python",
   "nbconvert_exporter": "python",
   "pygments_lexer": "ipython3",
   "version": "3.10.12"
  }
 },
 "nbformat": 4,
 "nbformat_minor": 2
}
