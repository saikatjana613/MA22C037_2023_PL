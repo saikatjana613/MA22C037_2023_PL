{
  "cells": [
    {
      "cell_type": "code",
      "execution_count": 1,
      "metadata": {
        "id": "6cXXZOcwxggc"
      },
      "outputs": [],
      "source": [
        "c = {'May31':\n",
        "\n",
        "    'Two crises convulse a nation: a pandemic and police violence',\n",
        "\n",
        "    'May30a':\n",
        "    'Nation’s first astronaut launch to orbit from home soil in nearly adecade',\n",
        "\n",
        "    'May30b':\n",
        "    'Death of George Floyd at the hands of police set off protests',\n",
        "\n",
        "    'May27':\n",
        "    'SpaceX launch of NASA astronauts is postponed over weather'}"
      ]
    },
    {
      "cell_type": "code",
      "execution_count": 2,
      "metadata": {
        "id": "vAF-b1SjyBqV"
      },
      "outputs": [],
      "source": [
        "import spacy\n",
        "from spacy import displacy\n",
        "\n",
        "# Install dataset: python3 -m spacy download en_core_web_sm\n",
        "nlp = spacy.load('en_core_web_sm')"
      ]
    },
    {
      "cell_type": "code",
      "execution_count": 3,
      "metadata": {
        "id": "m7kFQQX5yH9M"
      },
      "outputs": [],
      "source": [
        "doc0 = nlp('Two crises convulse a nation')"
      ]
    },
    {
      "cell_type": "code",
      "execution_count": 4,
      "metadata": {
        "id": "hiA40wXTyQTj"
      },
      "outputs": [],
      "source": [
        "svg = displacy.render(doc0, style=\"dep\", jupyter=False)\n",
        "with open('sentence0.svg', 'w') as f: f.write(svg)"
      ]
    },
    {
      "cell_type": "code",
      "execution_count": 5,
      "metadata": {
        "colab": {
          "base_uri": "https://localhost:8080/",
          "height": 52
        },
        "id": "L1BKJwipyU51",
        "outputId": "ba976724-7ca4-495c-acf7-5ed1b42e7213"
      },
      "outputs": [
        {
          "data": {
            "text/html": [
              "<span class=\"tex2jax_ignore\"><div class=\"entities\" style=\"line-height: 2.5; direction: ltr\">SpaceX launch of \n",
              "<mark class=\"entity\" style=\"background: #7aecec; padding: 0.45em 0.6em; margin: 0 0.25em; line-height: 1; border-radius: 0.35em;\">\n",
              "    NASA\n",
              "    <span style=\"font-size: 0.8em; font-weight: bold; line-height: 1; border-radius: 0.35em; vertical-align: middle; margin-left: 0.5rem\">ORG</span>\n",
              "</mark>\n",
              " astronauts is postponed over weather</div></span>"
            ],
            "text/plain": [
              "<IPython.core.display.HTML object>"
            ]
          },
          "metadata": {},
          "output_type": "display_data"
        }
      ],
      "source": [
        "doc1 = nlp('SpaceX launch of NASA astronauts is postponed over weather')\n",
        "displacy.render(doc1, style='ent', jupyter=True, options={'distance':90})"
      ]
    },
    {
      "cell_type": "code",
      "execution_count": 6,
      "metadata": {
        "colab": {
          "base_uri": "https://localhost:8080/"
        },
        "id": "m42aZagt4l2C",
        "outputId": "333c06ec-25b4-4667-e24a-ca208a254ca2"
      },
      "outputs": [
        {
          "data": {
            "text/plain": [
              "['SpaceX', 'launch', 'NASA', 'astronaut', 'postpone', 'weather']"
            ]
          },
          "execution_count": 6,
          "metadata": {},
          "output_type": "execute_result"
        }
      ],
      "source": [
        "[w.lemma_ for w in doc1 if not w.is_stop]"
      ]
    },
    {
      "cell_type": "code",
      "execution_count": 7,
      "metadata": {
        "colab": {
          "base_uri": "https://localhost:8080/",
          "height": 235
        },
        "id": "ENQUay9I4qmj",
        "outputId": "2ce7c810-7527-4ce4-aeb5-fb59251999a3"
      },
      "outputs": [
        {
          "data": {
            "text/html": [
              "<div>\n",
              "<style scoped>\n",
              "    .dataframe tbody tr th:only-of-type {\n",
              "        vertical-align: middle;\n",
              "    }\n",
              "\n",
              "    .dataframe tbody tr th {\n",
              "        vertical-align: top;\n",
              "    }\n",
              "\n",
              "    .dataframe thead th {\n",
              "        text-align: right;\n",
              "    }\n",
              "</style>\n",
              "<table border=\"1\" class=\"dataframe\">\n",
              "  <thead>\n",
              "    <tr style=\"text-align: right;\">\n",
              "      <th></th>\n",
              "      <th>May31</th>\n",
              "      <th>May30a</th>\n",
              "      <th>May30b</th>\n",
              "      <th>May27</th>\n",
              "    </tr>\n",
              "  </thead>\n",
              "  <tbody>\n",
              "    <tr>\n",
              "      <th>crisis</th>\n",
              "      <td>1</td>\n",
              "      <td>0</td>\n",
              "      <td>0</td>\n",
              "      <td>0</td>\n",
              "    </tr>\n",
              "    <tr>\n",
              "      <th>convulse</th>\n",
              "      <td>1</td>\n",
              "      <td>0</td>\n",
              "      <td>0</td>\n",
              "      <td>0</td>\n",
              "    </tr>\n",
              "    <tr>\n",
              "      <th>nation</th>\n",
              "      <td>1</td>\n",
              "      <td>1</td>\n",
              "      <td>0</td>\n",
              "      <td>0</td>\n",
              "    </tr>\n",
              "    <tr>\n",
              "      <th>pandemic</th>\n",
              "      <td>1</td>\n",
              "      <td>0</td>\n",
              "      <td>0</td>\n",
              "      <td>0</td>\n",
              "    </tr>\n",
              "    <tr>\n",
              "      <th>police</th>\n",
              "      <td>1</td>\n",
              "      <td>0</td>\n",
              "      <td>1</td>\n",
              "      <td>0</td>\n",
              "    </tr>\n",
              "    <tr>\n",
              "      <th>violence</th>\n",
              "      <td>1</td>\n",
              "      <td>0</td>\n",
              "      <td>0</td>\n",
              "      <td>0</td>\n",
              "    </tr>\n",
              "    <tr>\n",
              "      <th>astronaut</th>\n",
              "      <td>0</td>\n",
              "      <td>1</td>\n",
              "      <td>0</td>\n",
              "      <td>1</td>\n",
              "    </tr>\n",
              "    <tr>\n",
              "      <th>launch</th>\n",
              "      <td>0</td>\n",
              "      <td>1</td>\n",
              "      <td>0</td>\n",
              "      <td>1</td>\n",
              "    </tr>\n",
              "    <tr>\n",
              "      <th>orbit</th>\n",
              "      <td>0</td>\n",
              "      <td>1</td>\n",
              "      <td>0</td>\n",
              "      <td>0</td>\n",
              "    </tr>\n",
              "    <tr>\n",
              "      <th>home</th>\n",
              "      <td>0</td>\n",
              "      <td>1</td>\n",
              "      <td>0</td>\n",
              "      <td>0</td>\n",
              "    </tr>\n",
              "    <tr>\n",
              "      <th>soil</th>\n",
              "      <td>0</td>\n",
              "      <td>1</td>\n",
              "      <td>0</td>\n",
              "      <td>0</td>\n",
              "    </tr>\n",
              "    <tr>\n",
              "      <th>nearly</th>\n",
              "      <td>0</td>\n",
              "      <td>1</td>\n",
              "      <td>0</td>\n",
              "      <td>0</td>\n",
              "    </tr>\n",
              "    <tr>\n",
              "      <th>adecade</th>\n",
              "      <td>0</td>\n",
              "      <td>1</td>\n",
              "      <td>0</td>\n",
              "      <td>0</td>\n",
              "    </tr>\n",
              "    <tr>\n",
              "      <th>death</th>\n",
              "      <td>0</td>\n",
              "      <td>0</td>\n",
              "      <td>1</td>\n",
              "      <td>0</td>\n",
              "    </tr>\n",
              "    <tr>\n",
              "      <th>George</th>\n",
              "      <td>0</td>\n",
              "      <td>0</td>\n",
              "      <td>1</td>\n",
              "      <td>0</td>\n",
              "    </tr>\n",
              "    <tr>\n",
              "      <th>Floyd</th>\n",
              "      <td>0</td>\n",
              "      <td>0</td>\n",
              "      <td>1</td>\n",
              "      <td>0</td>\n",
              "    </tr>\n",
              "    <tr>\n",
              "      <th>hand</th>\n",
              "      <td>0</td>\n",
              "      <td>0</td>\n",
              "      <td>1</td>\n",
              "      <td>0</td>\n",
              "    </tr>\n",
              "    <tr>\n",
              "      <th>set</th>\n",
              "      <td>0</td>\n",
              "      <td>0</td>\n",
              "      <td>1</td>\n",
              "      <td>0</td>\n",
              "    </tr>\n",
              "    <tr>\n",
              "      <th>protest</th>\n",
              "      <td>0</td>\n",
              "      <td>0</td>\n",
              "      <td>1</td>\n",
              "      <td>0</td>\n",
              "    </tr>\n",
              "    <tr>\n",
              "      <th>SpaceX</th>\n",
              "      <td>0</td>\n",
              "      <td>0</td>\n",
              "      <td>0</td>\n",
              "      <td>1</td>\n",
              "    </tr>\n",
              "    <tr>\n",
              "      <th>NASA</th>\n",
              "      <td>0</td>\n",
              "      <td>0</td>\n",
              "      <td>0</td>\n",
              "      <td>1</td>\n",
              "    </tr>\n",
              "    <tr>\n",
              "      <th>postpone</th>\n",
              "      <td>0</td>\n",
              "      <td>0</td>\n",
              "      <td>0</td>\n",
              "      <td>1</td>\n",
              "    </tr>\n",
              "    <tr>\n",
              "      <th>weather</th>\n",
              "      <td>0</td>\n",
              "      <td>0</td>\n",
              "      <td>0</td>\n",
              "      <td>1</td>\n",
              "    </tr>\n",
              "  </tbody>\n",
              "</table>\n",
              "</div>"
            ],
            "text/plain": [
              "           May31  May30a  May30b  May27\n",
              "crisis         1       0       0      0\n",
              "convulse       1       0       0      0\n",
              "nation         1       1       0      0\n",
              "pandemic       1       0       0      0\n",
              "police         1       0       1      0\n",
              "violence       1       0       0      0\n",
              "astronaut      0       1       0      1\n",
              "launch         0       1       0      1\n",
              "orbit          0       1       0      0\n",
              "home           0       1       0      0\n",
              "soil           0       1       0      0\n",
              "nearly         0       1       0      0\n",
              "adecade        0       1       0      0\n",
              "death          0       0       1      0\n",
              "George         0       0       1      0\n",
              "Floyd          0       0       1      0\n",
              "hand           0       0       1      0\n",
              "set            0       0       1      0\n",
              "protest        0       0       1      0\n",
              "SpaceX         0       0       0      1\n",
              "NASA           0       0       0      1\n",
              "postpone       0       0       0      1\n",
              "weather        0       0       0      1"
            ]
          },
          "execution_count": 7,
          "metadata": {},
          "output_type": "execute_result"
        }
      ],
      "source": [
        "import pandas as pd\n",
        "from scipy.sparse import lil_matrix\n",
        "\n",
        "d = {}\n",
        "for j, dok in enumerate(c.keys()):\n",
        "    tokens = [w.lemma_ for w in nlp(c[dok])\n",
        "            if not w.is_stop and w.pos_ != 'PUNCT']\n",
        "    for t in tokens:\n",
        "        d[t] = d.setdefault(t, [])\n",
        "        d[t] += [j]\n",
        "A = lil_matrix((len(d.keys()), len(c.keys())), dtype=int)\n",
        "for i, t in enumerate(d.keys()):\n",
        "    for j in d[t]:\n",
        "        A[i, j] = 1\n",
        "Adf = pd.DataFrame(A.toarray(), index=d.keys(), columns=c.keys()); Adf"
      ]
    },
    {
      "cell_type": "code",
      "execution_count": 8,
      "metadata": {
        "id": "L4aHChEf5FFW"
      },
      "outputs": [],
      "source": [
        "import numpy as np\n",
        "import matplotlib.pyplot as plt\n",
        "import seaborn; seaborn.set();\n",
        "from numpy.linalg import norm\n",
        "from scipy.linalg import svd"
      ]
    },
    {
      "cell_type": "code",
      "execution_count": 9,
      "metadata": {
        "id": "Qkk-Wikn5P4D"
      },
      "outputs": [],
      "source": [
        "u, s, vt = svd(A.toarray())"
      ]
    },
    {
      "cell_type": "code",
      "execution_count": 10,
      "metadata": {
        "colab": {
          "base_uri": "https://localhost:8080/",
          "height": 111
        },
        "id": "y7qTIAm85SF2",
        "outputId": "128700de-1b98-49ef-910c-d1a551926bdb"
      },
      "outputs": [
        {
          "data": {
            "text/html": [
              "<div>\n",
              "<style scoped>\n",
              "    .dataframe tbody tr th:only-of-type {\n",
              "        vertical-align: middle;\n",
              "    }\n",
              "\n",
              "    .dataframe tbody tr th {\n",
              "        vertical-align: top;\n",
              "    }\n",
              "\n",
              "    .dataframe thead th {\n",
              "        text-align: right;\n",
              "    }\n",
              "</style>\n",
              "<table border=\"1\" class=\"dataframe\">\n",
              "  <thead>\n",
              "    <tr style=\"text-align: right;\">\n",
              "      <th></th>\n",
              "      <th>May31</th>\n",
              "      <th>May30a</th>\n",
              "      <th>May30b</th>\n",
              "      <th>May27</th>\n",
              "    </tr>\n",
              "  </thead>\n",
              "  <tbody>\n",
              "    <tr>\n",
              "      <th>0</th>\n",
              "      <td>-0.269907</td>\n",
              "      <td>-0.829243</td>\n",
              "      <td>-0.109002</td>\n",
              "      <td>-0.477101</td>\n",
              "    </tr>\n",
              "    <tr>\n",
              "      <th>1</th>\n",
              "      <td>0.458490</td>\n",
              "      <td>-0.149538</td>\n",
              "      <td>0.854138</td>\n",
              "      <td>-0.194611</td>\n",
              "    </tr>\n",
              "  </tbody>\n",
              "</table>\n",
              "</div>"
            ],
            "text/plain": [
              "      May31    May30a    May30b     May27\n",
              "0 -0.269907 -0.829243 -0.109002 -0.477101\n",
              "1  0.458490 -0.149538  0.854138 -0.194611"
            ]
          },
          "execution_count": 10,
          "metadata": {},
          "output_type": "execute_result"
        }
      ],
      "source": [
        "k = 2                               # Limit to rank k\n",
        "Vt = vt[:k, :]\n",
        "pd.DataFrame(Vt, columns=c.keys()) # Documents as k-vectors"
      ]
    },
    {
      "cell_type": "code",
      "execution_count": 11,
      "metadata": {
        "colab": {
          "base_uri": "https://localhost:8080/",
          "height": 204
        },
        "id": "P-ALe4tU5Xln",
        "outputId": "0e3679b9-9a58-4dce-95c6-33a6663f46be"
      },
      "outputs": [
        {
          "data": {
            "text/html": [
              "<div>\n",
              "<style scoped>\n",
              "    .dataframe tbody tr th:only-of-type {\n",
              "        vertical-align: middle;\n",
              "    }\n",
              "\n",
              "    .dataframe tbody tr th {\n",
              "        vertical-align: top;\n",
              "    }\n",
              "\n",
              "    .dataframe thead th {\n",
              "        text-align: right;\n",
              "    }\n",
              "</style>\n",
              "<table border=\"1\" class=\"dataframe\">\n",
              "  <thead>\n",
              "    <tr style=\"text-align: right;\">\n",
              "      <th></th>\n",
              "      <th>0</th>\n",
              "      <th>1</th>\n",
              "    </tr>\n",
              "  </thead>\n",
              "  <tbody>\n",
              "    <tr>\n",
              "      <th>crisis</th>\n",
              "      <td>-0.269907</td>\n",
              "      <td>0.458490</td>\n",
              "    </tr>\n",
              "    <tr>\n",
              "      <th>convulse</th>\n",
              "      <td>-0.269907</td>\n",
              "      <td>0.458490</td>\n",
              "    </tr>\n",
              "    <tr>\n",
              "      <th>nation</th>\n",
              "      <td>-1.099150</td>\n",
              "      <td>0.308952</td>\n",
              "    </tr>\n",
              "    <tr>\n",
              "      <th>pandemic</th>\n",
              "      <td>-0.269907</td>\n",
              "      <td>0.458490</td>\n",
              "    </tr>\n",
              "    <tr>\n",
              "      <th>police</th>\n",
              "      <td>-0.378909</td>\n",
              "      <td>1.312628</td>\n",
              "    </tr>\n",
              "  </tbody>\n",
              "</table>\n",
              "</div>"
            ],
            "text/plain": [
              "                 0         1\n",
              "crisis   -0.269907  0.458490\n",
              "convulse -0.269907  0.458490\n",
              "nation   -1.099150  0.308952\n",
              "pandemic -0.269907  0.458490\n",
              "police   -0.378909  1.312628"
            ]
          },
          "execution_count": 11,
          "metadata": {},
          "output_type": "execute_result"
        }
      ],
      "source": [
        "US = u[:, :k] @ np.diag(s[:k])\n",
        "usp = pd.DataFrame(US, index=d.keys()) # Words as k-vectors\n",
        "usp.head()"
      ]
    },
    {
      "cell_type": "code",
      "execution_count": 12,
      "metadata": {
        "id": "SHuGxzz05biN"
      },
      "outputs": [],
      "source": [
        "astronaut = usp.loc['astronaut', :].to_numpy()\n",
        "crisis = usp.loc['crisis', :].to_numpy()\n",
        "police = usp.loc['police', :].to_numpy()"
      ]
    },
    {
      "cell_type": "code",
      "execution_count": 13,
      "metadata": {},
      "outputs": [
        {
          "data": {
            "text/plain": [
              "0.9686558216875333"
            ]
          },
          "execution_count": 13,
          "metadata": {},
          "output_type": "execute_result"
        }
      ],
      "source": [
        "crisis.dot(police) / norm(police) / norm(crisis)"
      ]
    },
    {
      "cell_type": "code",
      "execution_count": 14,
      "metadata": {},
      "outputs": [
        {
          "data": {
            "text/plain": [
              "0.2710352972159534"
            ]
          },
          "execution_count": 14,
          "metadata": {},
          "output_type": "execute_result"
        }
      ],
      "source": [
        "crisis.dot(astronaut) / norm(astronaut) / norm(crisis)"
      ]
    },
    {
      "cell_type": "code",
      "execution_count": 15,
      "metadata": {
        "id": "WIsNVGHw5yNY"
      },
      "outputs": [
        {
          "data": {
            "image/png": "[encoded data removed]",
            "text/plain": [
              "<Figure size 1000x800 with 1 Axes>"
            ]
          },
          "metadata": {},
          "output_type": "display_data"
        }
      ],
      "source": [
        "w = {}; us = np.round(US, 8) # w[(x,y)] = list of words at that point\n",
        "usr = list(set([tuple(us[i, :]) for i in range(us.shape[0])]))\n",
        "for i in range(len(usr)):\n",
        "    w[usr[i]] = []\n",
        "    for j in range(usp.shape[0]):\n",
        "        if norm(usp.iloc[j, :] - usr[i]) < 1e-6:\n",
        "            w[usr[i]] += [usp.index[j]]\n",
        "\n",
        "fig = plt.figure(figsize=(10, 8)); ax = fig.gca()\n",
        "ax.arrow(0, 0, crisis[0], crisis[1], width=0.015, alpha=0.3)\n",
        "ax.arrow(0, 0, police[0], police[1], width=0.015, alpha=0.3)\n",
        "ax.arrow(0, 0, astronaut[0], astronaut[1], width=0.015, alpha=0.3)\n",
        "ax.scatter(US[: , 0], US[: ,1], alpha=0.5)\n",
        "ax.scatter(0, 0, color='r', marker='*', s=150, alpha=0.6);\n",
        "for i, key in enumerate(w.keys()):\n",
        "    ax.annotate(', '.join(w[key]), (key[0], key[1]))\n",
        "ax.set_xlim((-1.5, 0.7)); ax.set_ylim((-0.5, 1.5));\n",
        "ax.set_title('Alignment of Word Vectors');"
      ]
    },
    {
      "cell_type": "code",
      "execution_count": 16,
      "metadata": {
        "id": "MIhFySnV-q89"
      },
      "outputs": [],
      "source": [
        "c.update(\n",
        "{\n",
        "'May30Launch':\n",
        "'Go NASA! Go SpaceX! Godspeed, Bob and Doug!',\n",
        "\n",
        "'NYTimes':\n",
        "'NASA and SpaceX officials more often than not ' +\n",
        "'just call the pilots of this historic mission Bob and Doug.',\n",
        "\n",
        "'May30NASAblog':\n",
        "'The first stage of the SpaceX rocket has landed ' +\n",
        "'successfully on the droneship, Of Course I Still Love You.',\n",
        "\n",
        "'May31NYTimes':\n",
        "'After a 19 hour trip, NASA astronauts Bob and Doug ' +\n",
        "'successfully docked their capsule and entered the space station.',\n",
        "})"
      ]
    },
    {
      "cell_type": "code",
      "execution_count": 17,
      "metadata": {
        "id": "6LS3t_weCNxc"
      },
      "outputs": [],
      "source": [
        "c.update(\n",
        "{\n",
        "'2015Musk':\n",
        "'West Coast droneship under construction will ' +\n",
        "'be named Of Course I Still Love You',\n",
        "\n",
        "'IainBanks':\n",
        "'These friends of yours are ships. ' +\n",
        "'Yes, both of them. ' +\n",
        "'What are they called? ' +\n",
        "'Of Course I Still Love You and Just Read The Instructions. ' +\n",
        "'They are not warships? ' +\n",
        "'With names like that?'\n",
        "})"
      ]
    },
    {
      "cell_type": "code",
      "execution_count": 18,
      "metadata": {
        "id": "v4nuMXX3Czqu"
      },
      "outputs": [],
      "source": [
        "from spacy.matcher import PhraseMatcher\n",
        "\n",
        "terms = ['SpaceX',\n",
        "        'Of Course I Still Love You',\n",
        "        'Just Read The Instructions']\n",
        "\n",
        "patterns = [nlp.make_doc(text) for text in terms]\n",
        "\n",
        "matcher = PhraseMatcher(nlp.vocab)\n",
        "matcher.add('TerminologyList', None, *patterns)"
      ]
    },
    {
      "cell_type": "code",
      "execution_count": 19,
      "metadata": {
        "id": "47jeF5eQDH7A"
      },
      "outputs": [],
      "source": [
        "from spacy.tokens import Span\n",
        "\n",
        "def tokensfromdoc(doc):\n",
        "    d = nlp(doc)\n",
        "    matches = matcher(d)\n",
        "    for match_id, start, end in matches:\n",
        "        term = Span(d, start, end, label='myterms')\n",
        "        d.ents = list(d.ents) + [term]\n",
        "    tokens = [w.lemma_ for w in d\n",
        "            # no pronouns\n",
        "            if w.pos_ != 'PRON' \\\n",
        "            # no punctuations\n",
        "            and w.pos_ != 'PUNCT' \\\n",
        "            # not Beginning of a named entity\n",
        "            and w.ent_iob_ != 'B' \\\n",
        "            # not Inside a named entity\n",
        "            and w.ent_iob_ != 'I' \\\n",
        "            # not a stop word\n",
        "            and not w.is_stop]\n",
        "\n",
        "    tokens += [de.text.rstrip().replace(' ', '_') for de in d.ents]\n",
        "    return tokens\n",
        "\n",
        "def dictokens(corpora):\n",
        "    d = {}\n",
        "    for j, dok in enumerate(corpora.keys()):\n",
        "        for t in tokensfromdoc(corpora[dok]):\n",
        "            d[t] = d.setdefault(t, [])\n",
        "            d[t] += [j]\n",
        "    return d"
      ]
    },
    {
      "cell_type": "code",
      "execution_count": 20,
      "metadata": {
        "id": "BYesNQzwEKX2"
      },
      "outputs": [],
      "source": [
        "def tdmatrix(d, corpora):\n",
        "    A = lil_matrix((len(d.keys()), len(corpora.keys())), dtype=int)\n",
        "    for i, t in enumerate(d.keys()):\n",
        "        for j in d[t]:\n",
        "            A[i, j] = 1\n",
        "    return A"
      ]
    },
    {
      "cell_type": "code",
      "execution_count": 21,
      "metadata": {
        "id": "vuXW4ehnEv0o"
      },
      "outputs": [],
      "source": [
        "d = dictokens(c)"
      ]
    },
    {
      "cell_type": "code",
      "execution_count": 22,
      "metadata": {
        "id": "0FlpxIpjE0Hs"
      },
      "outputs": [],
      "source": [
        "d = dictokens(c)\n",
        "A = tdmatrix(d, c)\n",
        "Adf = pd.DataFrame(A.toarray(), index=d.keys(), columns=c.keys())"
      ]
    },
    {
      "cell_type": "code",
      "execution_count": 23,
      "metadata": {
        "id": "QA0TgKY1FuYY"
      },
      "outputs": [
        {
          "data": {
            "text/html": [
              "<div>\n",
              "<style scoped>\n",
              "    .dataframe tbody tr th:only-of-type {\n",
              "        vertical-align: middle;\n",
              "    }\n",
              "\n",
              "    .dataframe tbody tr th {\n",
              "        vertical-align: top;\n",
              "    }\n",
              "\n",
              "    .dataframe thead th {\n",
              "        text-align: right;\n",
              "    }\n",
              "</style>\n",
              "<table border=\"1\" class=\"dataframe\">\n",
              "  <thead>\n",
              "    <tr style=\"text-align: right;\">\n",
              "      <th></th>\n",
              "      <th>Of_Course_I_Still_Love_You</th>\n",
              "    </tr>\n",
              "  </thead>\n",
              "  <tbody>\n",
              "    <tr>\n",
              "      <th>NYTimes</th>\n",
              "      <td>0</td>\n",
              "    </tr>\n",
              "    <tr>\n",
              "      <th>May30NASAblog</th>\n",
              "      <td>1</td>\n",
              "    </tr>\n",
              "    <tr>\n",
              "      <th>May31NYTimes</th>\n",
              "      <td>0</td>\n",
              "    </tr>\n",
              "    <tr>\n",
              "      <th>2015Musk</th>\n",
              "      <td>1</td>\n",
              "    </tr>\n",
              "    <tr>\n",
              "      <th>IainBanks</th>\n",
              "      <td>1</td>\n",
              "    </tr>\n",
              "  </tbody>\n",
              "</table>\n",
              "</div>"
            ],
            "text/plain": [
              "               Of_Course_I_Still_Love_You\n",
              "NYTimes                                 0\n",
              "May30NASAblog                           1\n",
              "May31NYTimes                            0\n",
              "2015Musk                                1\n",
              "IainBanks                               1"
            ]
          },
          "execution_count": 23,
          "metadata": {},
          "output_type": "execute_result"
        }
      ],
      "source": [
        "Adf.loc[['Of_Course_I_Still_Love_You'], 'NYTimes':].T"
      ]
    },
    {
      "cell_type": "markdown",
      "metadata": {
        "id": "gT8ue2OnF0XV"
      },
      "source": [
        "**XVII.5 Queries and retrieval**"
      ]
    },
    {
      "cell_type": "code",
      "execution_count": 24,
      "metadata": {
        "id": "tXPvzBDJFvdo"
      },
      "outputs": [],
      "source": [
        "def retrieve(querytokns, W, Vt, c):\n",
        "\n",
        "    \"\"\"Given a list of query word token numbers \"querytokns\",\n",
        "    all words vectors \"W\" and all document vectors \"Vt.T\"\n",
        "    extracted from a corpus c, retrieve the documents\n",
        "    relevant to the query. \"\"\"\n",
        "    \n",
        "    q = W[querytokns, :].mean(axis=0)\n",
        "    nrm = norm(q)\n",
        "    q /= nrm\n",
        "    idx = np.argsort(Vt.T @ q)[::-1]\n",
        "    kl = list(c.keys())\n",
        "    keys = [kl[i] for i in idx]\n",
        "    docs = [c[k] for k in keys]\n",
        "    return docs, keys, idx"
      ]
    },
    {
      "cell_type": "code",
      "execution_count": 25,
      "metadata": {
        "id": "1JDKYnHnGQb3"
      },
      "outputs": [],
      "source": [
        "uu, ss, vvt = svd(A.toarray()) # SVD & rank k approximation\n",
        "k = 4\n",
        "U = uu[:, :k]; S = ss[:k];\n",
        "Vt = vvt[:k, :]               # Document vectors\n",
        "W = uu[:, :k] @ np.diag(ss[:k]) # Word vectors"
      ]
    },
    {
      "cell_type": "code",
      "execution_count": 26,
      "metadata": {
        "colab": {
          "base_uri": "https://localhost:8080/"
        },
        "id": "HOr3MOVkGXV6",
        "outputId": "8030755b-ebe3-4422-d6c8-a30c22b8f96d"
      },
      "outputs": [
        {
          "data": {
            "text/plain": [
              "['Nation’s first astronaut launch to orbit from home soil in nearly adecade',\n",
              " 'SpaceX launch of NASA astronauts is postponed over weather',\n",
              " 'After a 19 hour trip, NASA astronauts Bob and Doug successfully docked their capsule and entered the space station.']"
            ]
          },
          "execution_count": 26,
          "metadata": {},
          "output_type": "execute_result"
        }
      ],
      "source": [
        "myquery = np.where((Adf.index=='astronaut') | (Adf.index=='first'))[0]\n",
        "docs, keys, idx = retrieve(myquery, W, Vt, c)\n",
        "docs[:3]"
      ]
    },
    {
      "cell_type": "code",
      "execution_count": 27,
      "metadata": {
        "colab": {
          "base_uri": "https://localhost:8080/"
        },
        "id": "LCQEGsRxGcOa",
        "outputId": "80c95d6b-0673-48d4-8d21-1d90ee96806e"
      },
      "outputs": [
        {
          "data": {
            "text/plain": [
              "['The first stage of the SpaceX rocket has landed successfully on the droneship, Of Course I Still Love You.',\n",
              " 'These friends of yours are ships. Yes, both of them. What are they called? Of Course I Still Love You and Just Read The Instructions. They are not warships? With names like that?',\n",
              " 'West Coast droneship under construction will be named Of Course I Still Love You']"
            ]
          },
          "execution_count": 27,
          "metadata": {},
          "output_type": "execute_result"
        }
      ],
      "source": [
        "myquery = np.where(Adf.index=='droneship')[0]\n",
        "docs, keys, idx = retrieve(myquery, W, Vt, c)\n",
        "docs[:3]"
      ]
    },
    {
      "cell_type": "code",
      "execution_count": 28,
      "metadata": {
        "id": "zcBAjf4IGie9"
      },
      "outputs": [
        {
          "data": {
            "text/plain": [
              "['The first stage of the SpaceX rocket has landed successfully on the droneship, Of Course I Still Love You.',\n",
              " 'These friends of yours are ships. Yes, both of them. What are they called? Of Course I Still Love You and Just Read The Instructions. They are not warships? With names like that?',\n",
              " 'West Coast droneship under construction will be named Of Course I Still Love You']"
            ]
          },
          "execution_count": 28,
          "metadata": {},
          "output_type": "execute_result"
        }
      ],
      "source": [
        "myquery = np.where(Adf.index=='droneship')[0]\n",
        "docs, keys, idx = retrieve(myquery, W, Vt, c)\n",
        "docs[:3]"
      ]
    }
  ],
  "metadata": {
    "colab": {
      "authorship_tag": "ABX9TyN4qnJo6yNIyx9CwTA9Eb0m",
      "include_colab_link": true,
      "provenance": []
    },
    "kernelspec": {
      "display_name": "Python 3",
      "name": "python3"
    },
    "language_info": {
      "codemirror_mode": {
        "name": "ipython",
        "version": 3
      },
      "file_extension": ".py",
      "mimetype": "text/x-python",
      "name": "python",
      "nbconvert_exporter": "python",
      "pygments_lexer": "ipython3",
      "version": "3.10.12"
    }
  },
  "nbformat": 4,
  "nbformat_minor": 0
}
