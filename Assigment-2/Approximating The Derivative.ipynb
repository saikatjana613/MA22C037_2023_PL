{
 "cells": [
  {
   "cell_type": "code",
   "execution_count": 1,
   "id": "97f05ea6",
   "metadata": {},
   "outputs": [
    {
     "name": "stdout",
     "output_type": "stream",
     "text": [
      "Requirement already satisfied: gitpython in c:\\users\\saika\\anaconda3\\lib\\site-packages (3.1.32)\n",
      "Requirement already satisfied: gitdb<5,>=4.0.1 in c:\\users\\saika\\anaconda3\\lib\\site-packages (from gitpython) (4.0.10)\n",
      "Requirement already satisfied: smmap<6,>=3.0.1 in c:\\users\\saika\\anaconda3\\lib\\site-packages (from gitdb<5,>=4.0.1->gitpython) (5.0.0)\n"
     ]
    }
   ],
   "source": [
    "!pip install gitpython"
   ]
  },
  {
   "cell_type": "code",
   "execution_count": 3,
   "id": "6feb9b97",
   "metadata": {},
   "outputs": [],
   "source": [
    "def D2(f, x, h=1E-6):\n",
    "    return (f(x-h) - 2*f(x) + f(x+h)) / (h*h)"
   ]
  },
  {
   "cell_type": "code",
   "execution_count": 5,
   "id": "edbd7d81",
   "metadata": {},
   "outputs": [
    {
     "data": {
      "text/plain": [
       "-0.19864665468105613"
      ]
     },
     "execution_count": 5,
     "metadata": {},
     "output_type": "execute_result"
    }
   ],
   "source": [
    "from math import sin\n",
    "D2(sin, 0.2)"
   ]
  },
  {
   "cell_type": "code",
   "execution_count": 6,
   "id": "3cdb2053",
   "metadata": {},
   "outputs": [
    {
     "data": {
      "text/plain": [
       "-0.19866933079506122"
      ]
     },
     "execution_count": 6,
     "metadata": {},
     "output_type": "execute_result"
    }
   ],
   "source": [
    "-sin(0.2)"
   ]
  },
  {
   "cell_type": "code",
   "execution_count": 7,
   "id": "a814e514",
   "metadata": {},
   "outputs": [
    {
     "data": {
      "text/plain": [
       "-1.5576429035490946"
      ]
     },
     "execution_count": 7,
     "metadata": {},
     "output_type": "execute_result"
    }
   ],
   "source": [
    " def g(x):\n",
    "    return sin(2*x)\n",
    "D2(g, 0.2)"
   ]
  },
  {
   "cell_type": "code",
   "execution_count": 8,
   "id": "c375a23f",
   "metadata": {},
   "outputs": [
    {
     "data": {
      "text/plain": [
       "-1.5576429035490946"
      ]
     },
     "execution_count": 8,
     "metadata": {},
     "output_type": "execute_result"
    }
   ],
   "source": [
    " D2(lambda x: sin(2*x), 0.2) # central diff approximation"
   ]
  },
  {
   "cell_type": "code",
   "execution_count": 9,
   "id": "8abe39dc",
   "metadata": {},
   "outputs": [
    {
     "data": {
      "text/plain": [
       "-1.557673369234602"
      ]
     },
     "execution_count": 9,
     "metadata": {},
     "output_type": "execute_result"
    }
   ],
   "source": [
    " -4*sin(2* 0.2) # actual 2nd derivative value"
   ]
  },
  {
   "cell_type": "code",
   "execution_count": 10,
   "id": "7223f251",
   "metadata": {},
   "outputs": [
    {
     "name": "stdout",
     "output_type": "stream",
     "text": [
      " h D2 Result Error\n",
      "6e-02 42.99863 0.998629\n",
      "3e-02 42.24698 0.246977\n",
      "2e-02 42.06158 0.061579\n",
      "8e-03 42.01538 0.015384\n"
     ]
    }
   ],
   "source": [
    " print(' h D2 Result Error')\n",
    "for k in range(4,8):\n",
    "    h = 2**(-k)\n",
    "    d2g = D2(lambda x: x**-6, 1, h=h)\n",
    "    e = d2g - 42\n",
    "    print('%.0e %.5f %7.6f' %(h, d2g, e))"
   ]
  },
  {
   "cell_type": "code",
   "execution_count": 11,
   "id": "c159201f",
   "metadata": {},
   "outputs": [
    {
     "name": "stdout",
     "output_type": "stream",
     "text": [
      "1e-01           44.61504\n",
      "1e-02           42.02521\n",
      "1e-03           42.00025\n",
      "1e-04           42.00000\n",
      "1e-05           41.99999\n",
      "1e-06           42.00074\n",
      "1e-07           41.94423\n",
      "1e-08           47.73959\n",
      "1e-09         -666.13381\n",
      "1e-10            0.00000\n",
      "1e-11            0.00000\n",
      "1e-12   -666133814.77509\n",
      "1e-13  66613381477.50939\n"
     ]
    }
   ],
   "source": [
    "for k in range(1,14):\n",
    "    h = 10**(-k)\n",
    "    d2g = D2(lambda x: x**-6,1, h)\n",
    "    print('%.0e %18.5f' %(h, d2g))"
   ]
  }
 ],
 "metadata": {
  "kernelspec": {
   "display_name": "Python 3 (ipykernel)",
   "language": "python",
   "name": "python3"
  },
  "language_info": {
   "codemirror_mode": {
    "name": "ipython",
    "version": 3
   },
   "file_extension": ".py",
   "mimetype": "text/x-python",
   "name": "python",
   "nbconvert_exporter": "python",
   "pygments_lexer": "ipython3",
   "version": "3.11.3"
  }
 },
 "nbformat": 4,
 "nbformat_minor": 5
}
