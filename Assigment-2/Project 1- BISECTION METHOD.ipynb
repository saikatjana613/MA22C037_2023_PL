{
 "cells": [
  {
   "cell_type": "code",
   "execution_count": 41,
   "id": "f9e205f0",
   "metadata": {},
   "outputs": [],
   "source": [
    "def bisection_method(f, a, b, eps, max_niters):\n",
    "    if f(a)==0:\n",
    "        print(\"The exact root of f is:\",a)\n",
    "        return a\n",
    "    elif f(b)==0:\n",
    "         print(\"The exact root of f is:\",b)\n",
    "         return b\n",
    "        \n",
    "    elif f(a)*f(b) >= 0:\n",
    "        print(\"There is no root in the given interval\")\n",
    "       \n",
    "    else:\n",
    "        niters = 0\n",
    "        while abs(b - a)  > eps or max_niters==niters:\n",
    "            c = (a + b) / 2\n",
    "\n",
    "            if f(c) == 0:\n",
    "                return c\n",
    "\n",
    "            if f(a)*f(c) < 0:\n",
    "                b = c\n",
    "            else:\n",
    "                a = c\n",
    "\n",
    "            niters += 1\n",
    "        print(\"The required root is:\", c)\n",
    "\n",
    "    "
   ]
  },
  {
   "cell_type": "code",
   "execution_count": 42,
   "id": "c0a7f181",
   "metadata": {},
   "outputs": [],
   "source": [
    "import math\n",
    "def function(x):\n",
    "    return x-1-math.cos(x)"
   ]
  },
  {
   "cell_type": "code",
   "execution_count": 43,
   "id": "df9f30e4",
   "metadata": {},
   "outputs": [
    {
     "name": "stdout",
     "output_type": "stream",
     "text": [
      "The value of a: 0\n",
      "The value of b: 2\n",
      "The value of epsinol: 0.00001\n",
      "The number of iterations: 30\n"
     ]
    }
   ],
   "source": [
    "\n",
    "a = int(input(\"The value of a: \"))\n",
    "b = int(input(\"The value of b: \"))\n",
    "eps = float(input(\"The value of epsinol: \"))\n",
    "max_niters = int(input(\"The number of iterations: \"))"
   ]
  },
  {
   "cell_type": "code",
   "execution_count": 45,
   "id": "d51064ce",
   "metadata": {},
   "outputs": [
    {
     "name": "stdout",
     "output_type": "stream",
     "text": [
      "The required root is: 1.2834243774414062\n"
     ]
    }
   ],
   "source": [
    "bisection_method(function,a,b,eps,max_niters)"
   ]
  }
 ],
 "metadata": {
  "kernelspec": {
   "display_name": "Python 3 (ipykernel)",
   "language": "python",
   "name": "python3"
  },
  "language_info": {
   "codemirror_mode": {
    "name": "ipython",
    "version": 3
   },
   "file_extension": ".py",
   "mimetype": "text/x-python",
   "name": "python",
   "nbconvert_exporter": "python",
   "pygments_lexer": "ipython3",
   "version": "3.11.3"
  }
 },
 "nbformat": 4,
 "nbformat_minor": 5
}
