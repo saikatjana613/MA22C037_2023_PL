{
 "cells": [
  {
   "cell_type": "code",
   "execution_count": 1,
   "id": "f61c4385",
   "metadata": {},
   "outputs": [],
   "source": [
    "import numpy as np"
   ]
  },
  {
   "cell_type": "code",
   "execution_count": 2,
   "id": "6897775d",
   "metadata": {},
   "outputs": [],
   "source": [
    "def twice(w): # Definition of function \"twice\" taking an argument 'w' and multiply w by 2\n",
    "  \"\"\"Replace w by 2*w\"\"\"\n",
    "  w *= 2 # just like w=w*2"
   ]
  },
  {
   "cell_type": "code",
   "execution_count": 4,
   "id": "f00bd256",
   "metadata": {},
   "outputs": [
    {
     "name": "stdout",
     "output_type": "stream",
     "text": [
      "1743625511344\n"
     ]
    }
   ],
   "source": [
    "# Case-1 v is numpy array\n",
    "\n",
    "#The id() function in Python is used to get the unique identifier (memory address) of an object.\n",
    "\n",
    "x = \"hello\"\n",
    "print(id(x))"
   ]
  },
  {
   "cell_type": "code",
   "execution_count": 8,
   "id": "190bc456",
   "metadata": {},
   "outputs": [
    {
     "name": "stdout",
     "output_type": "stream",
     "text": [
      "140713052968328\n"
     ]
    }
   ],
   "source": [
    "x = 20\n",
    "print(id(x))"
   ]
  },
  {
   "cell_type": "code",
   "execution_count": 9,
   "id": "48d64e59",
   "metadata": {},
   "outputs": [
    {
     "name": "stdout",
     "output_type": "stream",
     "text": [
      "meomery address of numpy array is: 1743651522768\n",
      "\n",
      "meomery address of numpy array after passing function is: 1743651522768\n",
      " Found:  Address has same before and after passing the function\n"
     ]
    }
   ],
   "source": [
    "# Observation: Every object in Python has a unique ID\n",
    "\n",
    "v = [2, 5, 1] # declaration of list\n",
    "new =twice(v) # calling of function\n",
    "v = np.array([2, 5, 1]) # declaration of numpy array\n",
    "original_id = id(v)\n",
    "print( \"meomery address of numpy array is:\",original_id)\n",
    "print()\n",
    "twice(v)\n",
    "new_id = id(v)\n",
    "print(\"meomery address of numpy array after passing function is:\",new_id)\n",
    "\n",
    "# comparision of meomery address before and after passing the function\n",
    "if original_id == new_id:\n",
    "    print(\" Found:  Address has same before and after passing the function\")\n",
    "else:\n",
    "    print(\" Found:Address has not same before and after passing the function\")\n"
   ]
  },
  {
   "cell_type": "code",
   "execution_count": 10,
   "id": "4f25adae",
   "metadata": {},
   "outputs": [
    {
     "name": "stdout",
     "output_type": "stream",
     "text": [
      " hello this is Saikat  \n",
      "meomery of string v is : 1743651339392\n",
      " hello this is Saikat  \n",
      "meomery address of numpy string is: 1743651523920\n",
      " Found:Both has not  same  Address\n"
     ]
    }
   ],
   "source": [
    "#Case-2 : when v is string\n",
    "\n",
    "v = \" hello this is Saikat  \"# declaration of string\n",
    "original_id = id(v)\n",
    "print(v)\n",
    "print(\"meomery of string v is :\" ,original_id)\n",
    "y= np.array(v) # declaration of numpy array\n",
    "print(y)\n",
    "new_id = id(y)\n",
    "print( \"meomery address of numpy string is:\", new_id )\n",
    "# Compare memory addresses\n",
    "if original_id == new_id:\n",
    "    print(\" Found:  Both has same  Address \")\n",
    "else:\n",
    "    print(\" Found:Both has not  same  Address\")"
   ]
  }
 ],
 "metadata": {
  "kernelspec": {
   "display_name": "Python 3 (ipykernel)",
   "language": "python",
   "name": "python3"
  },
  "language_info": {
   "codemirror_mode": {
    "name": "ipython",
    "version": 3
   },
   "file_extension": ".py",
   "mimetype": "text/x-python",
   "name": "python",
   "nbconvert_exporter": "python",
   "pygments_lexer": "ipython3",
   "version": "3.11.3"
  }
 },
 "nbformat": 4,
 "nbformat_minor": 5
}
