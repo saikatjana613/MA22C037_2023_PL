{
 "cells": [
  {
   "cell_type": "code",
   "execution_count": 1,
   "id": "56c60e42",
   "metadata": {},
   "outputs": [],
   "source": [
    "import numpy as np\n",
    "import math"
   ]
  },
  {
   "cell_type": "code",
   "execution_count": 2,
   "id": "4194698e",
   "metadata": {},
   "outputs": [
    {
     "data": {
      "text/plain": [
       "(numpy.ndarray, list)"
      ]
     },
     "execution_count": 2,
     "metadata": {},
     "output_type": "execute_result"
    }
   ],
   "source": [
    "A = [0.1, 1.3, 0.4, 0.5] # list\n",
    "a = np.array(A) # numpy array\n",
    "type(a), type(A)"
   ]
  },
  {
   "cell_type": "code",
   "execution_count": 3,
   "id": "80238b85",
   "metadata": {},
   "outputs": [
    {
     "data": {
      "text/plain": [
       "dtype('float64')"
      ]
     },
     "execution_count": 3,
     "metadata": {},
     "output_type": "execute_result"
    }
   ],
   "source": [
    "a.dtype # a's common element type (A.dtype is undefined!)"
   ]
  },
  {
   "cell_type": "code",
   "execution_count": 4,
   "id": "2977c4a3",
   "metadata": {},
   "outputs": [
    {
     "data": {
      "text/plain": [
       "array([0.2, 2.6, 0.8, 1. ])"
      ]
     },
     "execution_count": 4,
     "metadata": {},
     "output_type": "execute_result"
    }
   ],
   "source": [
    "2*a"
   ]
  },
  {
   "cell_type": "code",
   "execution_count": 5,
   "id": "c7d5f262",
   "metadata": {},
   "outputs": [
    {
     "data": {
      "text/plain": [
       "[0.1, 1.3, 0.4, 0.5, 0.1, 1.3, 0.4, 0.5]"
      ]
     },
     "execution_count": 5,
     "metadata": {},
     "output_type": "execute_result"
    }
   ],
   "source": [
    "2*A"
   ]
  },
  {
   "cell_type": "code",
   "execution_count": 7,
   "id": "76f28850",
   "metadata": {},
   "outputs": [],
   "source": [
    "n = 100000\n",
    "x = np.linspace(0, 2*np.pi, n)"
   ]
  },
  {
   "cell_type": "code",
   "execution_count": 8,
   "id": "987ba0fa",
   "metadata": {},
   "outputs": [
    {
     "name": "stdout",
     "output_type": "stream",
     "text": [
      "109 ms ± 5.74 ms per loop (mean ± std. dev. of 7 runs, 10 loops each)\n",
      "4.04 ms ± 305 µs per loop (mean ± std. dev. of 7 runs, 100 loops each)\n"
     ]
    }
   ],
   "source": [
    "# list comprehension\n",
    "%timeit y = [math.sin(x[i]) * math.exp(-x[i]) for i in range(n)]\n",
    "# use numpy ufuncs\n",
    "%timeit y = np.sin(x) * np.exp(-x)"
   ]
  },
  {
   "cell_type": "code",
   "execution_count": 9,
   "id": "75e838d3",
   "metadata": {},
   "outputs": [],
   "source": [
    "def f(v): # apply f to one scalar value v\n",
    "    return math.sin(v) * math.exp(-v)"
   ]
  },
  {
   "cell_type": "code",
   "execution_count": 10,
   "id": "65f2e385",
   "metadata": {},
   "outputs": [],
   "source": [
    "vectorizedf = map(f, x) # apply same f to a vector of values x"
   ]
  },
  {
   "cell_type": "code",
   "execution_count": 11,
   "id": "a6dcadba",
   "metadata": {},
   "outputs": [],
   "source": [
    "F = np.vectorize(f) # F can be applied to a array x"
   ]
  },
  {
   "cell_type": "code",
   "execution_count": 12,
   "id": "888a0a23",
   "metadata": {},
   "outputs": [
    {
     "name": "stdout",
     "output_type": "stream",
     "text": [
      "78.7 ms ± 2.24 ms per loop (mean ± std. dev. of 7 runs, 10 loops each)\n",
      "75 ms ± 4.55 ms per loop (mean ± std. dev. of 7 runs, 10 loops each)\n",
      "3.55 ms ± 136 µs per loop (mean ± std. dev. of 7 runs, 100 loops each)\n"
     ]
    }
   ],
   "source": [
    "# use map\n",
    "%timeit y = list(map(f, x))\n",
    "# use numpy's vectorize\n",
    "%timeit y = F(x)\n",
    "# use numpy's ufunc\n",
    "%timeit y = np.sin(x) * np.exp(-x)"
   ]
  },
  {
   "cell_type": "code",
   "execution_count": 13,
   "id": "018ae668",
   "metadata": {},
   "outputs": [
    {
     "name": "stdout",
     "output_type": "stream",
     "text": [
      "256 ms ± 12.9 ms per loop (mean ± std. dev. of 7 runs, 1 loop each)\n",
      "268 ms ± 7.19 ms per loop (mean ± std. dev. of 7 runs, 1 loop each)\n"
     ]
    }
   ],
   "source": [
    "%timeit for x in range(1000000): x**3\n",
    "%timeit for x in np.arange(1000000): x**3"
   ]
  },
  {
   "cell_type": "code",
   "execution_count": 14,
   "id": "df40fe7f",
   "metadata": {},
   "outputs": [
    {
     "data": {
      "text/plain": [
       "array([8, 3, 4, 2, 0])"
      ]
     },
     "execution_count": 14,
     "metadata": {},
     "output_type": "execute_result"
    }
   ],
   "source": [
    "a = np.random.randint(0,9,5)\n",
    "a"
   ]
  },
  {
   "cell_type": "code",
   "execution_count": 15,
   "id": "e42375f9",
   "metadata": {},
   "outputs": [
    {
     "data": {
      "text/plain": [
       "array([8, 3, 4, 2, 0])"
      ]
     },
     "execution_count": 15,
     "metadata": {},
     "output_type": "execute_result"
    }
   ],
   "source": [
    "a[::]"
   ]
  },
  {
   "cell_type": "code",
   "execution_count": 16,
   "id": "37f6f49d",
   "metadata": {},
   "outputs": [
    {
     "data": {
      "text/plain": [
       "array([4, 2, 0])"
      ]
     },
     "execution_count": 16,
     "metadata": {},
     "output_type": "execute_result"
    }
   ],
   "source": [
    "a[-3:]"
   ]
  },
  {
   "cell_type": "code",
   "execution_count": 17,
   "id": "2e59aea5",
   "metadata": {},
   "outputs": [
    {
     "data": {
      "text/plain": [
       "(0, 0)"
      ]
     },
     "execution_count": 17,
     "metadata": {},
     "output_type": "execute_result"
    }
   ],
   "source": [
    "a[-1], a[len(a)-1]"
   ]
  },
  {
   "cell_type": "code",
   "execution_count": 18,
   "id": "69779802",
   "metadata": {},
   "outputs": [
    {
     "data": {
      "text/plain": [
       "array([3, 2])"
      ]
     },
     "execution_count": 18,
     "metadata": {},
     "output_type": "execute_result"
    }
   ],
   "source": [
    "a[-4:-1:2]"
   ]
  },
  {
   "cell_type": "code",
   "execution_count": 19,
   "id": "d2f1b679",
   "metadata": {},
   "outputs": [
    {
     "data": {
      "text/plain": [
       "(array([3, 2]), array([3, 2]))"
      ]
     },
     "execution_count": 19,
     "metadata": {},
     "output_type": "execute_result"
    }
   ],
   "source": [
    "slice = range(-4,-1,2) # Think of b:e:s specification as a range.\n",
    "a[-4:-1:2], a[slice] # In older versions, a[slice] may not work\n",
    "# but will work with slice=arange(-4,-1,2)."
   ]
  },
  {
   "cell_type": "code",
   "execution_count": 20,
   "id": "fcb06d4a",
   "metadata": {},
   "outputs": [],
   "source": [
    "a = np.array([1,2,3])\n",
    "b = np.array([3,4,5,6])"
   ]
  },
  {
   "cell_type": "code",
   "execution_count": 21,
   "id": "59a51064",
   "metadata": {},
   "outputs": [
    {
     "data": {
      "text/plain": [
       "array([1, 4, 5, 6])"
      ]
     },
     "execution_count": 21,
     "metadata": {},
     "output_type": "execute_result"
    }
   ],
   "source": [
    "a = b\n",
    "a[0] = 1\n",
    "a"
   ]
  },
  {
   "cell_type": "code",
   "execution_count": 22,
   "id": "ffb4d68a",
   "metadata": {},
   "outputs": [
    {
     "data": {
      "text/plain": [
       "array([1, 4, 5, 6])"
      ]
     },
     "execution_count": 22,
     "metadata": {},
     "output_type": "execute_result"
    }
   ],
   "source": [
    "b"
   ]
  },
  {
   "cell_type": "code",
   "execution_count": 23,
   "id": "d1fe676b",
   "metadata": {},
   "outputs": [],
   "source": [
    "a = np.array([1,2,3]) # This is Object1 and \"a\" is a name for it.\n",
    "b = np.array([3,4,5,6]) # This is Object2 and \"b\" is a name for it."
   ]
  },
  {
   "cell_type": "code",
   "execution_count": 24,
   "id": "ccd26a53",
   "metadata": {},
   "outputs": [
    {
     "data": {
      "text/plain": [
       "(1922081100432, 1922081101104)"
      ]
     },
     "execution_count": 24,
     "metadata": {},
     "output_type": "execute_result"
    }
   ],
   "source": [
    "id(a), id(b)"
   ]
  },
  {
   "cell_type": "code",
   "execution_count": 25,
   "id": "a991590c",
   "metadata": {},
   "outputs": [],
   "source": [
    "a = b # a is no longer a name for Object1, it is now a name for Object2."
   ]
  },
  {
   "cell_type": "code",
   "execution_count": 26,
   "id": "32840e07",
   "metadata": {},
   "outputs": [
    {
     "data": {
      "text/plain": [
       "(1922081101104, 1922081101104)"
      ]
     },
     "execution_count": 26,
     "metadata": {},
     "output_type": "execute_result"
    }
   ],
   "source": [
    "id(a), id(b)"
   ]
  },
  {
   "cell_type": "code",
   "execution_count": 27,
   "id": "07c52e80",
   "metadata": {},
   "outputs": [],
   "source": [
    "a = np.array([1,2,3]) # Object1\n",
    "b = np.array([3,4,5,6]) # Object2\n",
    "a = b.copy() # Copies Object2, and binds a to the copy\n",
    "a[0] = 2 # Only the copied (new) object is changed"
   ]
  },
  {
   "cell_type": "code",
   "execution_count": 28,
   "id": "c3b17ffa",
   "metadata": {},
   "outputs": [
    {
     "data": {
      "text/plain": [
       "(array([2, 4, 5, 6]), array([3, 4, 5, 6]))"
      ]
     },
     "execution_count": 28,
     "metadata": {},
     "output_type": "execute_result"
    }
   ],
   "source": [
    "a,b"
   ]
  },
  {
   "cell_type": "code",
   "execution_count": 29,
   "id": "cd1c8251",
   "metadata": {},
   "outputs": [
    {
     "data": {
      "text/plain": [
       "[[1, 2], [3, 4]]"
      ]
     },
     "execution_count": 29,
     "metadata": {},
     "output_type": "execute_result"
    }
   ],
   "source": [
    "Amat = [[1,2],\n",
    "[3,4]]\n",
    "Amat"
   ]
  },
  {
   "cell_type": "code",
   "execution_count": 30,
   "id": "da7bbb25",
   "metadata": {},
   "outputs": [
    {
     "data": {
      "text/plain": [
       "array([[1, 2],\n",
       "       [3, 4]])"
      ]
     },
     "execution_count": 30,
     "metadata": {},
     "output_type": "execute_result"
    }
   ],
   "source": [
    "amat = np.array(Amat)\n",
    "amat"
   ]
  },
  {
   "cell_type": "code",
   "execution_count": 31,
   "id": "e98c05f4",
   "metadata": {},
   "outputs": [
    {
     "data": {
      "text/plain": [
       "(list, numpy.ndarray)"
      ]
     },
     "execution_count": 31,
     "metadata": {},
     "output_type": "execute_result"
    }
   ],
   "source": [
    "type(A), type(a)"
   ]
  },
  {
   "cell_type": "code",
   "execution_count": 32,
   "id": "c1c25cc9",
   "metadata": {},
   "outputs": [
    {
     "data": {
      "text/plain": [
       "[[1, 2], [3, 4], [1, 2], [3, 4]]"
      ]
     },
     "execution_count": 32,
     "metadata": {},
     "output_type": "execute_result"
    }
   ],
   "source": [
    "2*Amat"
   ]
  },
  {
   "cell_type": "code",
   "execution_count": 33,
   "id": "89dd9edc",
   "metadata": {},
   "outputs": [
    {
     "data": {
      "text/plain": [
       "array([[2, 4],\n",
       "       [6, 8]])"
      ]
     },
     "execution_count": 33,
     "metadata": {},
     "output_type": "execute_result"
    }
   ],
   "source": [
    "2*amat"
   ]
  },
  {
   "cell_type": "code",
   "execution_count": 34,
   "id": "bf9b9c27",
   "metadata": {},
   "outputs": [
    {
     "data": {
      "text/plain": [
       "array([[1, 2],\n",
       "       [3, 4]])"
      ]
     },
     "execution_count": 34,
     "metadata": {},
     "output_type": "execute_result"
    }
   ],
   "source": [
    "amat"
   ]
  },
  {
   "cell_type": "code",
   "execution_count": 35,
   "id": "c1f07029",
   "metadata": {},
   "outputs": [
    {
     "data": {
      "text/plain": [
       "array([[ 1,  4],\n",
       "       [ 9, 16]])"
      ]
     },
     "execution_count": 35,
     "metadata": {},
     "output_type": "execute_result"
    }
   ],
   "source": [
    "amat*amat"
   ]
  },
  {
   "cell_type": "code",
   "execution_count": 36,
   "id": "56e61e89",
   "metadata": {},
   "outputs": [
    {
     "name": "stdout",
     "output_type": "stream",
     "text": [
      "3.11.3 | packaged by Anaconda, Inc. | (main, Apr 19 2023, 23:46:34) [MSC v.1916 64 bit (AMD64)]\n"
     ]
    }
   ],
   "source": [
    "import sys\n",
    "print(sys.version) # check if you have version >= 3.5 before trying @"
   ]
  },
  {
   "cell_type": "code",
   "execution_count": 37,
   "id": "051f9e67",
   "metadata": {},
   "outputs": [
    {
     "data": {
      "text/plain": [
       "array([[ 7, 10],\n",
       "       [15, 22]])"
      ]
     },
     "execution_count": 37,
     "metadata": {},
     "output_type": "execute_result"
    }
   ],
   "source": [
    "amat @ amat"
   ]
  },
  {
   "cell_type": "code",
   "execution_count": 38,
   "id": "6d0da46d",
   "metadata": {},
   "outputs": [
    {
     "data": {
      "text/plain": [
       "array([[ 7, 10],\n",
       "       [15, 22]])"
      ]
     },
     "execution_count": 38,
     "metadata": {},
     "output_type": "execute_result"
    }
   ],
   "source": [
    "np.dot(amat, amat) # dot(A,B) = matrix A multiplied by matrix B"
   ]
  },
  {
   "cell_type": "code",
   "execution_count": 39,
   "id": "5bda7595",
   "metadata": {},
   "outputs": [
    {
     "data": {
      "text/plain": [
       "array([[ 7, 10],\n",
       "       [15, 22]])"
      ]
     },
     "execution_count": 39,
     "metadata": {},
     "output_type": "execute_result"
    }
   ],
   "source": [
    "amat.dot(amat)"
   ]
  },
  {
   "cell_type": "code",
   "execution_count": 40,
   "id": "acb4cb3c",
   "metadata": {},
   "outputs": [
    {
     "data": {
      "text/plain": [
       "array([[ 1,  4],\n",
       "       [ 9, 16]])"
      ]
     },
     "execution_count": 40,
     "metadata": {},
     "output_type": "execute_result"
    }
   ],
   "source": [
    "amat**2 # not equal to matrix power !!"
   ]
  },
  {
   "cell_type": "code",
   "execution_count": 41,
   "id": "876f18bf",
   "metadata": {},
   "outputs": [
    {
     "data": {
      "text/plain": [
       "array([[ 7, 10],\n",
       "       [15, 22]])"
      ]
     },
     "execution_count": 41,
     "metadata": {},
     "output_type": "execute_result"
    }
   ],
   "source": [
    "np.linalg.matrix_power(amat, 2)"
   ]
  },
  {
   "cell_type": "code",
   "execution_count": 42,
   "id": "af9b20d4",
   "metadata": {},
   "outputs": [
    {
     "data": {
      "text/plain": [
       "array([[7, 8, 5, 1],\n",
       "       [2, 5, 5, 2],\n",
       "       [9, 6, 8, 9]])"
      ]
     },
     "execution_count": 42,
     "metadata": {},
     "output_type": "execute_result"
    }
   ],
   "source": [
    "A = np.array([[7, 8, 5, 1], [2, 5, 5, 2], [9, 6, 8, 9]])\n",
    "A"
   ]
  },
  {
   "cell_type": "code",
   "execution_count": 43,
   "id": "abecf806",
   "metadata": {},
   "outputs": [
    {
     "data": {
      "text/plain": [
       "(array([2, 5, 5, 2]), array([5, 5, 8]))"
      ]
     },
     "execution_count": 43,
     "metadata": {},
     "output_type": "execute_result"
    }
   ],
   "source": [
    "A[1, :], A[:, 2]"
   ]
  },
  {
   "cell_type": "code",
   "execution_count": 54,
   "id": "60830b01",
   "metadata": {},
   "outputs": [
    {
     "data": {
      "text/plain": [
       "array([[7, 8, 5],\n",
       "       [9, 6, 8]])"
      ]
     },
     "execution_count": 54,
     "metadata": {},
     "output_type": "execute_result"
    }
   ],
   "source": [
    "A[:3:2, :3]"
   ]
  },
  {
   "cell_type": "code",
   "execution_count": 55,
   "id": "77822f85",
   "metadata": {},
   "outputs": [
    {
     "data": {
      "text/plain": [
       "array([[7, 8, 5, 1],\n",
       "       [2, 5, 5, 2],\n",
       "       [9, 6, 8, 9]])"
      ]
     },
     "execution_count": 55,
     "metadata": {},
     "output_type": "execute_result"
    }
   ],
   "source": [
    "M = np.array([[7, 8, 5, 1], [2, 5, 5, 2], [9, 6, 8, 9]])\n",
    "M"
   ]
  },
  {
   "cell_type": "code",
   "execution_count": 56,
   "id": "d1aaa3cc",
   "metadata": {},
   "outputs": [
    {
     "data": {
      "text/plain": [
       "array([[7, 8, 5, 1, 2, 5],\n",
       "       [5, 2, 9, 6, 8, 9]])"
      ]
     },
     "execution_count": 56,
     "metadata": {},
     "output_type": "execute_result"
    }
   ],
   "source": [
    "M.reshape(2, 6) # Just a different view of the same data"
   ]
  },
  {
   "cell_type": "code",
   "execution_count": 57,
   "id": "0f05368f",
   "metadata": {},
   "outputs": [
    {
     "data": {
      "text/plain": [
       "array([7, 8, 5, 1, 2, 5, 5, 2, 9, 6, 8, 9])"
      ]
     },
     "execution_count": 57,
     "metadata": {},
     "output_type": "execute_result"
    }
   ],
   "source": [
    "M.ravel() # The 1D data of M in row-major ordering"
   ]
  },
  {
   "cell_type": "code",
   "execution_count": 58,
   "id": "0275ea35",
   "metadata": {},
   "outputs": [
    {
     "data": {
      "text/plain": [
       "array([[7, 8, 5, 1],\n",
       "       [2, 5, 5, 2],\n",
       "       [9, 6, 8, 9]])"
      ]
     },
     "execution_count": 58,
     "metadata": {},
     "output_type": "execute_result"
    }
   ],
   "source": [
    "A = np.array(M, order='F')\n",
    "A"
   ]
  },
  {
   "cell_type": "code",
   "execution_count": 59,
   "id": "b5362b71",
   "metadata": {},
   "outputs": [
    {
     "data": {
      "text/plain": [
       "array([7, 2, 9, 8, 5, 6, 5, 5, 8, 1, 2, 9])"
      ]
     },
     "execution_count": 59,
     "metadata": {},
     "output_type": "execute_result"
    }
   ],
   "source": [
    "A.ravel(order='A') # A's internal ordering is Fortran style"
   ]
  },
  {
   "cell_type": "code",
   "execution_count": 60,
   "id": "de363fb0",
   "metadata": {},
   "outputs": [
    {
     "data": {
      "text/plain": [
       "array([7, 8, 5, 1, 2, 5, 5, 2, 9, 6, 8, 9])"
      ]
     },
     "execution_count": 60,
     "metadata": {},
     "output_type": "execute_result"
    }
   ],
   "source": [
    "M.ravel(order='A') # M's internal ordering is default C-style"
   ]
  },
  {
   "cell_type": "code",
   "execution_count": 61,
   "id": "16a27327",
   "metadata": {},
   "outputs": [
    {
     "data": {
      "text/plain": [
       "array([[ 0,  1,  2,  3,  4],\n",
       "       [ 5,  6,  7,  8,  9],\n",
       "       [10, 11, 12, 13, 14],\n",
       "       [15, 16, 17, 18, 19],\n",
       "       [20, 21, 22, 23, 24]])"
      ]
     },
     "execution_count": 61,
     "metadata": {},
     "output_type": "execute_result"
    }
   ],
   "source": [
    "N = np.arange(25).reshape(5,5)\n",
    "N"
   ]
  },
  {
   "cell_type": "code",
   "execution_count": 62,
   "id": "b02a3012",
   "metadata": {},
   "outputs": [
    {
     "data": {
      "text/plain": [
       "array([[False, False, False, False, False],\n",
       "       [False, False, False,  True,  True],\n",
       "       [ True,  True,  True,  True,  True],\n",
       "       [ True,  True,  True, False, False],\n",
       "       [False, False, False, False, False]])"
      ]
     },
     "execution_count": 62,
     "metadata": {},
     "output_type": "execute_result"
    }
   ],
   "source": [
    "mask = (N>7) & (N<18)\n",
    "mask"
   ]
  },
  {
   "cell_type": "code",
   "execution_count": 63,
   "id": "b7030564",
   "metadata": {},
   "outputs": [
    {
     "data": {
      "text/plain": [
       "array([ 8,  9, 10, 11, 12, 13, 14, 15, 16, 17])"
      ]
     },
     "execution_count": 63,
     "metadata": {},
     "output_type": "execute_result"
    }
   ],
   "source": [
    "N[mask]"
   ]
  },
  {
   "cell_type": "code",
   "execution_count": 64,
   "id": "0121a1f1",
   "metadata": {},
   "outputs": [
    {
     "data": {
      "text/plain": [
       "(array([1, 1, 2, 2, 2, 2, 2, 3, 3, 3], dtype=int64),\n",
       " array([3, 4, 0, 1, 2, 3, 4, 0, 1, 2], dtype=int64))"
      ]
     },
     "execution_count": 64,
     "metadata": {},
     "output_type": "execute_result"
    }
   ],
   "source": [
    "i, j = np.where(mask) # Returns i and j indices where mask[i,j] is True.\n",
    "i, j # 1st True value of mask is at i[0],j[0],\n",
    "# 2nd True value of mask is at i[1],j[1], etc."
   ]
  },
  {
   "cell_type": "code",
   "execution_count": 65,
   "id": "18c3bce6",
   "metadata": {},
   "outputs": [],
   "source": [
    "data = np.random.randint(low=0, high=10, size=30) # 1D array"
   ]
  },
  {
   "cell_type": "code",
   "execution_count": 66,
   "id": "3468a371",
   "metadata": {},
   "outputs": [
    {
     "data": {
      "text/plain": [
       "array([[2, 8, 3, 7, 1],\n",
       "       [2, 5, 4, 9, 3],\n",
       "       [9, 5, 3, 4, 6],\n",
       "       [1, 9, 4, 3, 1],\n",
       "       [6, 5, 1, 4, 1],\n",
       "       [3, 2, 2, 3, 1]])"
      ]
     },
     "execution_count": 66,
     "metadata": {},
     "output_type": "execute_result"
    }
   ],
   "source": [
    "T2 = np.reshape(data, (6, 5)) # 2D array\n",
    "T2"
   ]
  },
  {
   "cell_type": "code",
   "execution_count": 67,
   "id": "29c997a1",
   "metadata": {},
   "outputs": [
    {
     "data": {
      "text/plain": [
       "array([[[2, 8, 3, 7, 1],\n",
       "        [2, 5, 4, 9, 3],\n",
       "        [9, 5, 3, 4, 6]],\n",
       "\n",
       "       [[1, 9, 4, 3, 1],\n",
       "        [6, 5, 1, 4, 1],\n",
       "        [3, 2, 2, 3, 1]]])"
      ]
     },
     "execution_count": 67,
     "metadata": {},
     "output_type": "execute_result"
    }
   ],
   "source": [
    "T3 = np.reshape(data, (2, 3, 5)) # 3D array\n",
    "T3"
   ]
  },
  {
   "cell_type": "code",
   "execution_count": 68,
   "id": "e538407a",
   "metadata": {},
   "outputs": [
    {
     "name": "stdout",
     "output_type": "stream",
     "text": [
      "T3 is a  3 dimensional array of shape  (2, 3, 5)\n",
      "T2 is a  2 dimensional array of shape  (6, 5)\n",
      "data is a  1 dimensional array of shape  (30,)\n"
     ]
    }
   ],
   "source": [
    "print('T3 is a ', T3.ndim, 'dimensional array of shape ', T3.shape)\n",
    "print('T2 is a ', T2.ndim, 'dimensional array of shape ', T2.shape)\n",
    "print('data is a ', data.ndim, 'dimensional array of shape ', data.shape)"
   ]
  }
 ],
 "metadata": {
  "kernelspec": {
   "display_name": "Python 3 (ipykernel)",
   "language": "python",
   "name": "python3"
  },
  "language_info": {
   "codemirror_mode": {
    "name": "ipython",
    "version": 3
   },
   "file_extension": ".py",
   "mimetype": "text/x-python",
   "name": "python",
   "nbconvert_exporter": "python",
   "pygments_lexer": "ipython3",
   "version": "3.11.3"
  }
 },
 "nbformat": 4,
 "nbformat_minor": 5
}
