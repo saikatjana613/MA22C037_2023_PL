{
 "cells": [
  {
   "cell_type": "code",
   "execution_count": 2,
   "id": "b432c91f",
   "metadata": {},
   "outputs": [
    {
     "name": "stdout",
     "output_type": "stream",
     "text": [
      "F C\n",
      "32.0 0\n",
      "50.0 10\n",
      "68.0 20\n",
      "86.0 30\n",
      "104.0 40\n",
      "122.0 50\n",
      "140.0 60\n",
      "158.0 70\n",
      "176.0 80\n",
      "194.0 90\n",
      "212.0 100\n",
      "230.0 110\n",
      "248.0 120\n",
      "266.0 130\n",
      "284.0 140\n",
      "302.0 150\n",
      "320.0 160\n",
      "338.0 170\n",
      "356.0 180\n",
      "374.0 190\n",
      "392.0 200\n",
      "410.0 210\n",
      "428.0 220\n",
      "446.0 230\n",
      "464.0 240\n",
      "482.0 250\n"
     ]
    }
   ],
   "source": [
    " print('F C')\n",
    "C = 0\n",
    "while C <= 250:\n",
    "    F = 9 * C / 5 + 32\n",
    "    print(F, C)\n",
    "    C += 10"
   ]
  },
  {
   "cell_type": "code",
   "execution_count": 3,
   "id": "991f9163",
   "metadata": {},
   "outputs": [
    {
     "name": "stdout",
     "output_type": "stream",
     "text": [
      " F C\n",
      "  32    0\n",
      "  50   10\n",
      "  68   20\n",
      "  86   30\n",
      " 104   40\n",
      " 122   50\n",
      " 140   60\n",
      " 158   70\n",
      " 176   80\n",
      " 194   90\n",
      " 212  100\n",
      " 230  110\n",
      " 248  120\n",
      " 266  130\n",
      " 284  140\n",
      " 302  150\n",
      " 320  160\n",
      " 338  170\n",
      " 356  180\n",
      " 374  190\n",
      " 392  200\n",
      " 410  210\n",
      " 428  220\n",
      " 446  230\n",
      " 464  240\n",
      " 482  250\n"
     ]
    }
   ],
   "source": [
    "print(' F C')\n",
    "C=0\n",
    "while C <= 250:\n",
    "    F = 9 * C / 5 + 32\n",
    "    print('%4.0f %4.0f' % (F, C))\n",
    "    C += 10"
   ]
  },
  {
   "cell_type": "code",
   "execution_count": 4,
   "id": "706075ff",
   "metadata": {},
   "outputs": [
    {
     "name": "stdout",
     "output_type": "stream",
     "text": [
      " F C\n",
      "  32    0\n",
      "  50   10\n",
      "  68   20\n",
      "  86   30\n",
      " 104   40\n",
      " 122   50\n",
      " 140   60\n",
      " 158   70\n",
      " 176   80\n",
      " 194   90\n",
      " 212  100\n",
      " 230  110\n",
      " 248  120\n",
      " 266  130\n",
      " 284  140\n",
      " 302  150\n",
      " 320  160\n",
      " 338  170\n",
      " 356  180\n",
      " 374  190\n",
      " 392  200\n",
      " 410  210\n",
      " 428  220\n",
      " 446  230\n",
      " 464  240\n"
     ]
    }
   ],
   "source": [
    "print(' F C')\n",
    "for C in range(0, 250, 10):\n",
    "    F = 9 * C / 5 + 32\n",
    "    print('%4.0f %4.0f' % (F, C))"
   ]
  },
  {
   "cell_type": "code",
   "execution_count": 5,
   "id": "425126f1",
   "metadata": {},
   "outputs": [
    {
     "name": "stdout",
     "output_type": "stream",
     "text": [
      " F C\n",
      " -58  -50\n",
      " -49  -45\n",
      " -40  -40\n",
      " -31  -35\n",
      " -22  -30\n",
      " -13  -25\n",
      "  -4  -20\n",
      "   5  -15\n",
      "  14  -10\n",
      "  23   -5\n",
      "  32    0\n",
      "  41    5\n",
      "  50   10\n",
      "  59   15\n",
      "  68   20\n",
      "  77   25\n",
      "  86   30\n",
      "  95   35\n",
      " 104   40\n",
      " 113   45\n"
     ]
    }
   ],
   "source": [
    "print(' F C')\n",
    "for C in range(-50, 50, 5):\n",
    "    F = 9 * C / 5 + 32\n",
    "    print('%4.0f %4.0f' % (F, C))"
   ]
  },
  {
   "cell_type": "code",
   "execution_count": 6,
   "id": "3f622a97",
   "metadata": {},
   "outputs": [
    {
     "data": {
      "text/plain": [
       "[0, 10, 20]"
      ]
     },
     "execution_count": 6,
     "metadata": {},
     "output_type": "execute_result"
    }
   ],
   "source": [
    "Cs = [0, 10] # create list using []\n",
    "Cs.append(20) # modify by appending an entry\n",
    "Cs"
   ]
  },
  {
   "cell_type": "code",
   "execution_count": 7,
   "id": "cdd4275c",
   "metadata": {},
   "outputs": [],
   "source": [
    "Cs = (0, 10) # create a tuple using ()"
   ]
  },
  {
   "cell_type": "code",
   "execution_count": 8,
   "id": "bafade7d",
   "metadata": {},
   "outputs": [],
   "source": [
    "Cs = [] # empty list\n",
    "Fs = []\n",
    "for C in range(0, 250, 25):\n",
    "    Cs.append(C)\n",
    "    Fs.append(9 * C / 5 + 32)"
   ]
  },
  {
   "cell_type": "code",
   "execution_count": 9,
   "id": "c30fc1b3",
   "metadata": {},
   "outputs": [
    {
     "name": "stdout",
     "output_type": "stream",
     "text": [
      "[0, 25, 50, 75, 100, 125, 150, 175, 200, 225]\n"
     ]
    }
   ],
   "source": [
    "print(Cs)"
   ]
  },
  {
   "cell_type": "code",
   "execution_count": 10,
   "id": "d4a986e4",
   "metadata": {},
   "outputs": [
    {
     "name": "stdout",
     "output_type": "stream",
     "text": [
      "[32.0, 77.0, 122.0, 167.0, 212.0, 257.0, 302.0, 347.0, 392.0, 437.0]\n"
     ]
    }
   ],
   "source": [
    "print(Fs)"
   ]
  },
  {
   "cell_type": "code",
   "execution_count": 11,
   "id": "d74152fe",
   "metadata": {},
   "outputs": [
    {
     "name": "stdout",
     "output_type": "stream",
     "text": [
      " F C\n",
      "  32    0\n",
      "  77   25\n",
      " 122   50\n",
      " 167   75\n",
      " 212  100\n",
      " 257  125\n",
      " 302  150\n",
      " 347  175\n",
      " 392  200\n",
      " 437  225\n"
     ]
    }
   ],
   "source": [
    "print(' F C')\n",
    "for C, F in zip(Cs, Fs):\n",
    "    print('%4.0f %4.0f' % (F, C))"
   ]
  },
  {
   "cell_type": "code",
   "execution_count": 12,
   "id": "8d4264c1",
   "metadata": {},
   "outputs": [],
   "source": [
    "Fs = [9 * C / 5 + 32 for C in Cs]"
   ]
  },
  {
   "cell_type": "code",
   "execution_count": 13,
   "id": "cfbbe53f",
   "metadata": {},
   "outputs": [
    {
     "name": "stdout",
     "output_type": "stream",
     "text": [
      "[32.0, 77.0, 122.0, 167.0, 212.0, 257.0, 302.0, 347.0, 392.0, 437.0]\n"
     ]
    }
   ],
   "source": [
    "print(Fs)"
   ]
  }
 ],
 "metadata": {
  "kernelspec": {
   "display_name": "Python 3 (ipykernel)",
   "language": "python",
   "name": "python3"
  },
  "language_info": {
   "codemirror_mode": {
    "name": "ipython",
    "version": 3
   },
   "file_extension": ".py",
   "mimetype": "text/x-python",
   "name": "python",
   "nbconvert_exporter": "python",
   "pygments_lexer": "ipython3",
   "version": "3.11.3"
  }
 },
 "nbformat": 4,
 "nbformat_minor": 5
}
