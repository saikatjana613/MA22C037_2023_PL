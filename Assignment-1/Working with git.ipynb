{
 "cells": [
  {
   "cell_type": "code",
   "execution_count": 1,
   "id": "9163eb88",
   "metadata": {},
   "outputs": [
    {
     "name": "stdout",
     "output_type": "stream",
     "text": [
      "Requirement already satisfied: gitpython in c:\\users\\saika\\anaconda3\\lib\\site-packages (3.1.32)\n",
      "Requirement already satisfied: gitdb<5,>=4.0.1 in c:\\users\\saika\\anaconda3\\lib\\site-packages (from gitpython) (4.0.10)\n",
      "Requirement already satisfied: smmap<6,>=3.0.1 in c:\\users\\saika\\anaconda3\\lib\\site-packages (from gitdb<5,>=4.0.1->gitpython) (5.0.0)\n"
     ]
    }
   ],
   "source": [
    "!pip install gitpython"
   ]
  },
  {
   "cell_type": "code",
   "execution_count": 2,
   "id": "18e2d437",
   "metadata": {},
   "outputs": [],
   "source": [
    "from git import Repo"
   ]
  },
  {
   "cell_type": "code",
   "execution_count": 4,
   "id": "3e2b7b54",
   "metadata": {},
   "outputs": [
    {
     "name": "stdout",
     "output_type": "stream",
     "text": [
      "Help on method clone_from in module git.repo.base:\n",
      "\n",
      "clone_from(url: 'PathLike', to_path: 'PathLike', progress: 'Optional[Callable]' = None, env: 'Optional[Mapping[str, str]]' = None, multi_options: 'Optional[List[str]]' = None, allow_unsafe_protocols: 'bool' = False, allow_unsafe_options: 'bool' = False, **kwargs: 'Any') -> \"'Repo'\" method of builtins.type instance\n",
      "    Create a clone from the given URL\n",
      "    \n",
      "    :param url: valid git url, see http://www.kernel.org/pub/software/scm/git/docs/git-clone.html#URLS\n",
      "    :param to_path: Path to which the repository should be cloned to\n",
      "    :param progress: See 'git.remote.Remote.push'.\n",
      "    :param env: Optional dictionary containing the desired environment variables.\n",
      "        Note: Provided variables will be used to update the execution\n",
      "        environment for `git`. If some variable is not specified in `env`\n",
      "        and is defined in `os.environ`, value from `os.environ` will be used.\n",
      "        If you want to unset some variable, consider providing empty string\n",
      "        as its value.\n",
      "    :param multi_options: See ``clone`` method\n",
      "    :param allow_unsafe_protocols: Allow unsafe protocols to be used, like ext\n",
      "    :param allow_unsafe_options: Allow unsafe options to be used, like --upload-pack\n",
      "    :param kwargs: see the ``clone`` method\n",
      "    :return: Repo instance pointing to the cloned directory\n",
      "\n"
     ]
    }
   ],
   "source": [
    "help(Repo.clone_from)"
   ]
  },
  {
   "cell_type": "code",
   "execution_count": 5,
   "id": "8e430cb3",
   "metadata": {},
   "outputs": [
    {
     "name": "stdout",
     "output_type": "stream",
     "text": [
      "Help on function __init__ in module git.repo.base:\n",
      "\n",
      "__init__(self, path: 'Optional[PathLike]' = None, odbt: 'Type[LooseObjectDB]' = <class 'git.db.GitCmdObjectDB'>, search_parent_directories: 'bool' = False, expand_vars: 'bool' = True) -> 'None'\n",
      "    Create a new Repo instance\n",
      "    \n",
      "    :param path:\n",
      "        the path to either the root git directory or the bare git repo::\n",
      "    \n",
      "            repo = Repo(\"/Users/mtrier/Development/git-python\")\n",
      "            repo = Repo(\"/Users/mtrier/Development/git-python.git\")\n",
      "            repo = Repo(\"~/Development/git-python.git\")\n",
      "            repo = Repo(\"$REPOSITORIES/Development/git-python.git\")\n",
      "            repo = Repo(\"C:\\Users\\mtrier\\Development\\git-python\\.git\")\n",
      "    \n",
      "        - In *Cygwin*, path may be a `'cygdrive/...'` prefixed path.\n",
      "        - If it evaluates to false, :envvar:`GIT_DIR` is used, and if this also evals to false,\n",
      "          the current-directory is used.\n",
      "    :param odbt:\n",
      "        Object DataBase type - a type which is constructed by providing\n",
      "        the directory containing the database objects, i.e. .git/objects. It will\n",
      "        be used to access all object data\n",
      "    :param search_parent_directories:\n",
      "        if True, all parent directories will be searched for a valid repo as well.\n",
      "    \n",
      "        Please note that this was the default behaviour in older versions of GitPython,\n",
      "        which is considered a bug though.\n",
      "    :raise InvalidGitRepositoryError:\n",
      "    :raise NoSuchPathError:\n",
      "    :return: git.Repo\n",
      "\n"
     ]
    }
   ],
   "source": [
    " help(Repo.__init__)"
   ]
  },
  {
   "cell_type": "code",
   "execution_count": 6,
   "id": "d32d997a",
   "metadata": {},
   "outputs": [],
   "source": [
    "coursefolder = '/Users/Jay/tmpdir/'"
   ]
  },
  {
   "cell_type": "code",
   "execution_count": 7,
   "id": "1515047a",
   "metadata": {},
   "outputs": [
    {
     "data": {
      "text/plain": [
       "'C:\\\\Users\\\\Jay\\\\tmpdir'"
      ]
     },
     "execution_count": 7,
     "metadata": {},
     "output_type": "execute_result"
    }
   ],
   "source": [
    "import os\n",
    "os.path.abspath(coursefolder)"
   ]
  },
  {
   "cell_type": "code",
   "execution_count": 8,
   "id": "6c80e17c",
   "metadata": {},
   "outputs": [
    {
     "data": {
      "text/plain": [
       "'C:\\\\Users\\\\Jay\\\\tmpdir\\\\mth271content'"
      ]
     },
     "execution_count": 8,
     "metadata": {},
     "output_type": "execute_result"
    }
   ],
   "source": [
    "repodir = os.path.join(os.path.abspath(coursefolder), 'mth271content')\n",
    "repodir # full path name of the subfolder"
   ]
  },
  {
   "cell_type": "code",
   "execution_count": 9,
   "id": "038a018d",
   "metadata": {},
   "outputs": [
    {
     "data": {
      "text/plain": [
       "False"
      ]
     },
     "execution_count": 9,
     "metadata": {},
     "output_type": "execute_result"
    }
   ],
   "source": [
    "os.path.isdir(repodir)"
   ]
  },
  {
   "cell_type": "code",
   "execution_count": 21,
   "id": "d9d69746",
   "metadata": {},
   "outputs": [],
   "source": [
    "# Replace with the actual path to your local repository\n",
    "\n",
    "if os.path.isdir(repodir):  # Check if the local repository directory exists\n",
    "    repo = Repo(repodir)  # Open the existing repository\n",
    "    repo.remotes.origin.pull()  # Pull the latest changes from the remote repository\n",
    "else:\n",
    "    repo = Repo.clone_from('https://github.com/jayggg/mth271content', repodir)  # Clone the remote repository to the local directory\n"
   ]
  },
  {
   "cell_type": "code",
   "execution_count": 22,
   "id": "59853804",
   "metadata": {},
   "outputs": [
    {
     "data": {
      "text/plain": [
       "'C:\\\\Users\\\\saika\\\\Untitled Folder\\\\path\\\\to\\\\local\\\\repo'"
      ]
     },
     "execution_count": 22,
     "metadata": {},
     "output_type": "execute_result"
    }
   ],
   "source": [
    " repo.working_dir"
   ]
  }
 ],
 "metadata": {
  "kernelspec": {
   "display_name": "Python 3 (ipykernel)",
   "language": "python",
   "name": "python3"
  },
  "language_info": {
   "codemirror_mode": {
    "name": "ipython",
    "version": 3
   },
   "file_extension": ".py",
   "mimetype": "text/x-python",
   "name": "python",
   "nbconvert_exporter": "python",
   "pygments_lexer": "ipython3",
   "version": "3.11.3"
  }
 },
 "nbformat": 4,
 "nbformat_minor": 5
}
