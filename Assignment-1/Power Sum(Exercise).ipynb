{
 "cells": [
  {
   "cell_type": "code",
   "execution_count": 19,
   "id": "9d28a053",
   "metadata": {},
   "outputs": [
    {
     "name": "stdout",
     "output_type": "stream",
     "text": [
      "Enter the value of N: 10\n",
      "Enter the value of i: 2\n",
      "The result of the sum is: 385\n"
     ]
    }
   ],
   "source": [
    "def calculate_summation(N, i):\n",
    "    total = 0\n",
    "    for n in range(1, N + 1):\n",
    "        total =total+ n ** i\n",
    "    return total\n",
    "\n",
    "N = int(input(\"Enter the value of N: \"))\n",
    "i = int(input(\"Enter the value of i: \"))\n",
    "result = calculate_summation(N, i)\n",
    "print(\"The result of the sum is:\", result)"
   ]
  }
 ],
 "metadata": {
  "kernelspec": {
   "display_name": "Python 3 (ipykernel)",
   "language": "python",
   "name": "python3"
  },
  "language_info": {
   "codemirror_mode": {
    "name": "ipython",
    "version": 3
   },
   "file_extension": ".py",
   "mimetype": "text/x-python",
   "name": "python",
   "nbconvert_exporter": "python",
   "pygments_lexer": "ipython3",
   "version": "3.11.3"
  }
 },
 "nbformat": 4,
 "nbformat_minor": 5
}
