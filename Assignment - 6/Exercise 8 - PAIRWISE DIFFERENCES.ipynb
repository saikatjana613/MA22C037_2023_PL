{
 "cells": [
  {
   "cell_type": "code",
   "execution_count": 1,
   "id": "7200cdbd",
   "metadata": {},
   "outputs": [],
   "source": [
    "import numpy as np"
   ]
  },
  {
   "cell_type": "code",
   "execution_count": 2,
   "id": "a101d96d",
   "metadata": {},
   "outputs": [],
   "source": [
    "x = np.random.rand(5)"
   ]
  },
  {
   "cell_type": "code",
   "execution_count": 3,
   "id": "1f28c597",
   "metadata": {},
   "outputs": [
    {
     "name": "stdout",
     "output_type": "stream",
     "text": [
      "[[ 0.         -0.45089602 -0.36866101  0.15273073 -0.35186861]\n",
      " [ 0.45089602  0.          0.08223501  0.60362675  0.09902741]\n",
      " [ 0.36866101 -0.08223501  0.          0.52139174  0.0167924 ]\n",
      " [-0.15273073 -0.60362675 -0.52139174  0.         -0.50459934]\n",
      " [ 0.35186861 -0.09902741 -0.0167924   0.50459934  0.        ]]\n"
     ]
    }
   ],
   "source": [
    "D = np.subtract.outer(x, x)  \n",
    "print(D)"
   ]
  },
  {
   "cell_type": "code",
   "execution_count": 4,
   "id": "b1b90fef",
   "metadata": {},
   "outputs": [
    {
     "name": "stdout",
     "output_type": "stream",
     "text": [
      "[[ 0.         -0.45089602 -0.36866101  0.15273073 -0.35186861]\n",
      " [ 0.45089602  0.          0.08223501  0.60362675  0.09902741]\n",
      " [ 0.36866101 -0.08223501  0.          0.52139174  0.0167924 ]\n",
      " [-0.15273073 -0.60362675 -0.52139174  0.         -0.50459934]\n",
      " [ 0.35186861 -0.09902741 -0.0167924   0.50459934  0.        ]]\n"
     ]
    }
   ],
   "source": [
    "A = np.zeros((5,5))\n",
    "for i in range(5):\n",
    "  for j in range (5):\n",
    "    A[i][j]=x[i]-x[j]\n",
    "\n",
    "print(A)"
   ]
  }
 ],
 "metadata": {
  "kernelspec": {
   "display_name": "Python 3 (ipykernel)",
   "language": "python",
   "name": "python3"
  },
  "language_info": {
   "codemirror_mode": {
    "name": "ipython",
    "version": 3
   },
   "file_extension": ".py",
   "mimetype": "text/x-python",
   "name": "python",
   "nbconvert_exporter": "python",
   "pygments_lexer": "ipython3",
   "version": "3.11.3"
  }
 },
 "nbformat": 4,
 "nbformat_minor": 5
}
