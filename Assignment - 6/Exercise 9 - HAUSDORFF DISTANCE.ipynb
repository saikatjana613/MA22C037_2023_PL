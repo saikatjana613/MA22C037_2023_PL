{
 "cells": [
  {
   "cell_type": "code",
   "execution_count": 1,
   "id": "32e5e50f",
   "metadata": {},
   "outputs": [],
   "source": [
    "import numpy as np"
   ]
  },
  {
   "cell_type": "code",
   "execution_count": 3,
   "id": "d0dd6a6a",
   "metadata": {},
   "outputs": [],
   "source": [
    "import math"
   ]
  },
  {
   "cell_type": "code",
   "execution_count": 4,
   "id": "d5b782aa",
   "metadata": {},
   "outputs": [
    {
     "name": "stdout",
     "output_type": "stream",
     "text": [
      "P= [[0.88749449 0.318304  ]\n",
      " [0.83208955 0.06877571]\n",
      " [0.5265875  0.60984621]\n",
      " [0.44303686 0.8458368 ]\n",
      " [0.87310938 0.91741343]]\n",
      "\n",
      "\n",
      "\n",
      "Q= [[0.52555694 0.44830226]\n",
      " [0.65976278 0.20527027]\n",
      " [0.36016536 0.77810921]\n",
      " [0.07645062 0.87186944]\n",
      " [0.80488518 0.43716821]\n",
      " [0.60558718 0.92909461]\n",
      " [0.27540828 0.74093649]]\n"
     ]
    }
   ],
   "source": [
    "# Define two sets of points P and Q\n",
    "\n",
    "P = np.random.rand(5, 2)\n",
    "print(\"P=\",P)\n",
    "print(\"\\n\\n\")\n",
    "Q = np.random.rand(7, 2)\n",
    "print(\"Q=\",Q)"
   ]
  },
  {
   "cell_type": "code",
   "execution_count": 5,
   "id": "e5199205",
   "metadata": {},
   "outputs": [],
   "source": [
    "#Defining Euclidean norm\n",
    "\n",
    "def norm(p):\n",
    "    return np.sqrt(p@p)"
   ]
  },
  {
   "cell_type": "code",
   "execution_count": 6,
   "id": "3bb6c261",
   "metadata": {},
   "outputs": [],
   "source": [
    "# this function takes minimum of norm(p-q) over q inQ\n",
    "\n",
    "def m(p,Q):\n",
    "    return min(norm(p-q) for q in Q)"
   ]
  },
  {
   "cell_type": "code",
   "execution_count": 7,
   "id": "236aeaeb",
   "metadata": {},
   "outputs": [],
   "source": [
    "# This defines the function as given in problem\n",
    "\n",
    "def h(P,Q):\n",
    "    return max(m(p,Q) for p in P)"
   ]
  },
  {
   "cell_type": "code",
   "execution_count": 10,
   "id": "fb3b415b",
   "metadata": {},
   "outputs": [
    {
     "data": {
      "text/plain": [
       "0.367509420578619"
      ]
     },
     "execution_count": 10,
     "metadata": {},
     "output_type": "execute_result"
    }
   ],
   "source": [
    "# Hausdorff distance between P and Q\n",
    "\n",
    "def H(P,Q):\n",
    "    return max(h(P,Q),h(Q,P))\n",
    "H(P,Q)"
   ]
  }
 ],
 "metadata": {
  "kernelspec": {
   "display_name": "Python 3 (ipykernel)",
   "language": "python",
   "name": "python3"
  },
  "language_info": {
   "codemirror_mode": {
    "name": "ipython",
    "version": 3
   },
   "file_extension": ".py",
   "mimetype": "text/x-python",
   "name": "python",
   "nbconvert_exporter": "python",
   "pygments_lexer": "ipython3",
   "version": "3.11.3"
  }
 },
 "nbformat": 4,
 "nbformat_minor": 5
}
