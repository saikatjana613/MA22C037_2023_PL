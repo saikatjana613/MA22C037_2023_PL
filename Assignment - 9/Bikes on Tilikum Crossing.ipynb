{
 "cells": [
  {
   "cell_type": "code",
   "execution_count": 2,
   "id": "299c01d2",
   "metadata": {},
   "outputs": [],
   "source": [
    "import pandas as pd\n",
    "import numpy as np\n",
    "import matplotlib.pyplot as plt\n",
    "import seaborn; seaborn.set()"
   ]
  },
  {
   "cell_type": "code",
   "execution_count": 6,
   "id": "9b2f7102",
   "metadata": {},
   "outputs": [
    {
     "data": {
      "text/html": [
       "<div>\n",
       "<style scoped>\n",
       "    .dataframe tbody tr th:only-of-type {\n",
       "        vertical-align: middle;\n",
       "    }\n",
       "\n",
       "    .dataframe tbody tr th {\n",
       "        vertical-align: top;\n",
       "    }\n",
       "\n",
       "    .dataframe thead th {\n",
       "        text-align: right;\n",
       "    }\n",
       "</style>\n",
       "<table border=\"1\" class=\"dataframe\">\n",
       "  <thead>\n",
       "    <tr style=\"text-align: right;\">\n",
       "      <th></th>\n",
       "      <th>id</th>\n",
       "      <th>start_time</th>\n",
       "      <th>end_time</th>\n",
       "      <th>measure_period</th>\n",
       "      <th>volume</th>\n",
       "      <th>flow_detector_id</th>\n",
       "    </tr>\n",
       "  </thead>\n",
       "  <tbody>\n",
       "    <tr>\n",
       "      <th>0</th>\n",
       "      <td>36586735</td>\n",
       "      <td>2015-08-09 08:00:00+00</td>\n",
       "      <td>2015-08-09 08:15:00+00</td>\n",
       "      <td>00:15:00</td>\n",
       "      <td>0</td>\n",
       "      <td>1903</td>\n",
       "    </tr>\n",
       "    <tr>\n",
       "      <th>1</th>\n",
       "      <td>36586736</td>\n",
       "      <td>2015-08-09 08:15:00+00</td>\n",
       "      <td>2015-08-09 08:30:00+00</td>\n",
       "      <td>00:15:00</td>\n",
       "      <td>0</td>\n",
       "      <td>1903</td>\n",
       "    </tr>\n",
       "    <tr>\n",
       "      <th>2</th>\n",
       "      <td>36586737</td>\n",
       "      <td>2015-08-09 08:30:00+00</td>\n",
       "      <td>2015-08-09 08:45:00+00</td>\n",
       "      <td>00:15:00</td>\n",
       "      <td>0</td>\n",
       "      <td>1903</td>\n",
       "    </tr>\n",
       "    <tr>\n",
       "      <th>3</th>\n",
       "      <td>36586738</td>\n",
       "      <td>2015-08-09 08:45:00+00</td>\n",
       "      <td>2015-08-09 09:00:00+00</td>\n",
       "      <td>00:15:00</td>\n",
       "      <td>0</td>\n",
       "      <td>1903</td>\n",
       "    </tr>\n",
       "    <tr>\n",
       "      <th>4</th>\n",
       "      <td>36586739</td>\n",
       "      <td>2015-08-09 09:00:00+00</td>\n",
       "      <td>2015-08-09 09:15:00+00</td>\n",
       "      <td>00:15:00</td>\n",
       "      <td>0</td>\n",
       "      <td>1903</td>\n",
       "    </tr>\n",
       "  </tbody>\n",
       "</table>\n",
       "</div>"
      ],
      "text/plain": [
       "         id              start_time                end_time measure_period  \\\n",
       "0  36586735  2015-08-09 08:00:00+00  2015-08-09 08:15:00+00       00:15:00   \n",
       "1  36586736  2015-08-09 08:15:00+00  2015-08-09 08:30:00+00       00:15:00   \n",
       "2  36586737  2015-08-09 08:30:00+00  2015-08-09 08:45:00+00       00:15:00   \n",
       "3  36586738  2015-08-09 08:45:00+00  2015-08-09 09:00:00+00       00:15:00   \n",
       "4  36586739  2015-08-09 09:00:00+00  2015-08-09 09:15:00+00       00:15:00   \n",
       "\n",
       "   volume  flow_detector_id  \n",
       "0       0              1903  \n",
       "1       0              1903  \n",
       "2       0              1903  \n",
       "3       0              1903  \n",
       "4       0              1903  "
      ]
     },
     "execution_count": 6,
     "metadata": {},
     "output_type": "execute_result"
    }
   ],
   "source": [
    "import pandas as pd\n",
    "\n",
    "data = {\n",
    "    'id': [36586735, 36586736, 36586737, 36586738, 36586739],\n",
    "    'start_time': [\n",
    "        '2015-08-09 08:00:00+00',\n",
    "        '2015-08-09 08:15:00+00',\n",
    "        '2015-08-09 08:30:00+00',\n",
    "        '2015-08-09 08:45:00+00',\n",
    "        '2015-08-09 09:00:00+00'\n",
    "    ],\n",
    "    'end_time': [\n",
    "        '2015-08-09 08:15:00+00',\n",
    "        '2015-08-09 08:30:00+00',\n",
    "        '2015-08-09 08:45:00+00',\n",
    "        '2015-08-09 09:00:00+00',\n",
    "        '2015-08-09 09:15:00+00'\n",
    "    ],\n",
    "    'measure_period': ['00:15:00', '00:15:00', '00:15:00', '00:15:00', '00:15:00'],\n",
    "    'volume': [0, 0, 0, 0, 0],\n",
    "    'flow_detector_id': [1903, 1903, 1903, 1903, 1903]\n",
    "}\n",
    "\n",
    "td = pd.DataFrame(data)\n",
    "td.to_csv('output.csv', index=False)\n",
    "td = pd.read_csv('output.csv')\n",
    "td.head()"
   ]
  },
  {
   "cell_type": "code",
   "execution_count": 7,
   "id": "02289d44",
   "metadata": {},
   "outputs": [
    {
     "data": {
      "text/html": [
       "<div>\n",
       "<style scoped>\n",
       "    .dataframe tbody tr th:only-of-type {\n",
       "        vertical-align: middle;\n",
       "    }\n",
       "\n",
       "    .dataframe tbody tr th {\n",
       "        vertical-align: top;\n",
       "    }\n",
       "\n",
       "    .dataframe thead th {\n",
       "        text-align: right;\n",
       "    }\n",
       "</style>\n",
       "<table border=\"1\" class=\"dataframe\">\n",
       "  <thead>\n",
       "    <tr style=\"text-align: right;\">\n",
       "      <th></th>\n",
       "      <th>id</th>\n",
       "      <th>start_time</th>\n",
       "      <th>end_time</th>\n",
       "      <th>measure_period</th>\n",
       "      <th>volume</th>\n",
       "      <th>flow_detector_id</th>\n",
       "    </tr>\n",
       "  </thead>\n",
       "  <tbody>\n",
       "    <tr>\n",
       "      <th>0</th>\n",
       "      <td>36586735</td>\n",
       "      <td>2015-08-09 08:00:00+00</td>\n",
       "      <td>2015-08-09 08:15:00+00</td>\n",
       "      <td>00:15:00</td>\n",
       "      <td>0</td>\n",
       "      <td>1903</td>\n",
       "    </tr>\n",
       "    <tr>\n",
       "      <th>1</th>\n",
       "      <td>36586736</td>\n",
       "      <td>2015-08-09 08:15:00+00</td>\n",
       "      <td>2015-08-09 08:30:00+00</td>\n",
       "      <td>00:15:00</td>\n",
       "      <td>0</td>\n",
       "      <td>1903</td>\n",
       "    </tr>\n",
       "    <tr>\n",
       "      <th>2</th>\n",
       "      <td>36586737</td>\n",
       "      <td>2015-08-09 08:30:00+00</td>\n",
       "      <td>2015-08-09 08:45:00+00</td>\n",
       "      <td>00:15:00</td>\n",
       "      <td>0</td>\n",
       "      <td>1903</td>\n",
       "    </tr>\n",
       "    <tr>\n",
       "      <th>3</th>\n",
       "      <td>36586738</td>\n",
       "      <td>2015-08-09 08:45:00+00</td>\n",
       "      <td>2015-08-09 09:00:00+00</td>\n",
       "      <td>00:15:00</td>\n",
       "      <td>0</td>\n",
       "      <td>1903</td>\n",
       "    </tr>\n",
       "    <tr>\n",
       "      <th>4</th>\n",
       "      <td>36586739</td>\n",
       "      <td>2015-08-09 09:00:00+00</td>\n",
       "      <td>2015-08-09 09:15:00+00</td>\n",
       "      <td>00:15:00</td>\n",
       "      <td>0</td>\n",
       "      <td>1903</td>\n",
       "    </tr>\n",
       "  </tbody>\n",
       "</table>\n",
       "</div>"
      ],
      "text/plain": [
       "         id              start_time                end_time measure_period  \\\n",
       "0  36586735  2015-08-09 08:00:00+00  2015-08-09 08:15:00+00       00:15:00   \n",
       "1  36586736  2015-08-09 08:15:00+00  2015-08-09 08:30:00+00       00:15:00   \n",
       "2  36586737  2015-08-09 08:30:00+00  2015-08-09 08:45:00+00       00:15:00   \n",
       "3  36586738  2015-08-09 08:45:00+00  2015-08-09 09:00:00+00       00:15:00   \n",
       "4  36586739  2015-08-09 09:00:00+00  2015-08-09 09:15:00+00       00:15:00   \n",
       "\n",
       "   volume  flow_detector_id  \n",
       "0       0              1903  \n",
       "1       0              1903  \n",
       "2       0              1903  \n",
       "3       0              1903  \n",
       "4       0              1903  "
      ]
     },
     "execution_count": 7,
     "metadata": {},
     "output_type": "execute_result"
    }
   ],
   "source": [
    "td.tail()"
   ]
  },
  {
   "cell_type": "code",
   "execution_count": 8,
   "id": "ac88e40b",
   "metadata": {},
   "outputs": [
    {
     "data": {
      "text/plain": [
       "True"
      ]
     },
     "execution_count": 8,
     "metadata": {},
     "output_type": "execute_result"
    }
   ],
   "source": [
    "dif = pd.to_datetime(td['end_time']) - pd.to_datetime(td['start_time'])\n",
    "(dif == dif[0]).all()"
   ]
  },
  {
   "cell_type": "code",
   "execution_count": 9,
   "id": "f2e0f259",
   "metadata": {},
   "outputs": [],
   "source": [
    "td = td.rename(columns={'start_time':'time'}).drop(columns=['end_time','measure_period', 'id'])"
   ]
  },
  {
   "cell_type": "code",
   "execution_count": 11,
   "id": "d5ac8bbd",
   "metadata": {},
   "outputs": [
    {
     "data": {
      "text/html": [
       "<div>\n",
       "<style scoped>\n",
       "    .dataframe tbody tr th:only-of-type {\n",
       "        vertical-align: middle;\n",
       "    }\n",
       "\n",
       "    .dataframe tbody tr th {\n",
       "        vertical-align: top;\n",
       "    }\n",
       "\n",
       "    .dataframe thead th {\n",
       "        text-align: right;\n",
       "    }\n",
       "</style>\n",
       "<table border=\"1\" class=\"dataframe\">\n",
       "  <thead>\n",
       "    <tr style=\"text-align: right;\">\n",
       "      <th></th>\n",
       "      <th>0</th>\n",
       "      <th>1</th>\n",
       "      <th>2</th>\n",
       "      <th>3</th>\n",
       "    </tr>\n",
       "  </thead>\n",
       "  <tbody>\n",
       "    <tr>\n",
       "      <th>0</th>\n",
       "      <td>detector_description</td>\n",
       "      <td>Inbound towards East</td>\n",
       "      <td>Inbound towards West</td>\n",
       "      <td>Inbound towards West</td>\n",
       "    </tr>\n",
       "    <tr>\n",
       "      <th>1</th>\n",
       "      <td>flow_detector_id</td>\n",
       "      <td>1903</td>\n",
       "      <td>1904</td>\n",
       "      <td>1905</td>\n",
       "    </tr>\n",
       "    <tr>\n",
       "      <th>2</th>\n",
       "      <td>detector_make</td>\n",
       "      <td>EcoCounter</td>\n",
       "      <td>EcoCounter</td>\n",
       "      <td>EcoCounter</td>\n",
       "    </tr>\n",
       "    <tr>\n",
       "      <th>3</th>\n",
       "      <td>detector_name</td>\n",
       "      <td>Tilikum Crossing 1 EB</td>\n",
       "      <td>Tilikum Crossing (EAST)</td>\n",
       "      <td>Tilikum Crossing 2 WB</td>\n",
       "    </tr>\n",
       "    <tr>\n",
       "      <th>4</th>\n",
       "      <td>facility_description</td>\n",
       "      <td>South bike lane of Tilikum Crossing Bridge</td>\n",
       "      <td>North bike lane of Tilikum Crossing Bridge</td>\n",
       "      <td>North bike lane of Tilikum Crossing Bridge</td>\n",
       "    </tr>\n",
       "  </tbody>\n",
       "</table>\n",
       "</div>"
      ],
      "text/plain": [
       "                      0                                           1  \\\n",
       "0  detector_description                        Inbound towards East   \n",
       "1      flow_detector_id                                        1903   \n",
       "2         detector_make                                  EcoCounter   \n",
       "3         detector_name                       Tilikum Crossing 1 EB   \n",
       "4  facility_description  South bike lane of Tilikum Crossing Bridge   \n",
       "\n",
       "                                            2  \\\n",
       "0                        Inbound towards West   \n",
       "1                                        1904   \n",
       "2                                  EcoCounter   \n",
       "3                     Tilikum Crossing (EAST)   \n",
       "4  North bike lane of Tilikum Crossing Bridge   \n",
       "\n",
       "                                            3  \n",
       "0                        Inbound towards West  \n",
       "1                                        1905  \n",
       "2                                  EcoCounter  \n",
       "3                       Tilikum Crossing 2 WB  \n",
       "4  North bike lane of Tilikum Crossing Bridge  "
      ]
     },
     "execution_count": 11,
     "metadata": {},
     "output_type": "execute_result"
    }
   ],
   "source": [
    "data = {\n",
    "    0: ['detector_description', 'flow_detector_id', 'detector_make', 'detector_name', 'facility_description'],\n",
    "    1: ['Inbound towards East', 1903, 'EcoCounter', 'Tilikum Crossing 1 EB', 'South bike lane of Tilikum Crossing Bridge'],\n",
    "    2: ['Inbound towards West', 1904, 'EcoCounter', 'Tilikum Crossing (EAST)', 'North bike lane of Tilikum Crossing Bridge'],\n",
    "    3: ['Inbound towards West', 1905, 'EcoCounter', 'Tilikum Crossing 2 WB', 'North bike lane of Tilikum Crossing Bridge']\n",
    "}\n",
    "\n",
    "tm = pd.DataFrame(data)\n",
    "tm.to_csv('output.csv', index=False, header=False)\n",
    "\n",
    "tm = pd.read_csv('output.csv', header=None)\n",
    "tm.head()\n",
    "\n"
   ]
  },
  {
   "cell_type": "code",
   "execution_count": 20,
   "id": "5915b7f2",
   "metadata": {},
   "outputs": [
    {
     "name": "stdout",
     "output_type": "stream",
     "text": [
      "                                                               1  \\\n",
      "0                                                                  \n",
      "detector_description                        Inbound towards East   \n",
      "flow_detector_id                                            1903   \n",
      "detector_make                                         EcoCounter   \n",
      "detector_name                              Tilikum Crossing 1 EB   \n",
      "facility_description  South bike lane of Tilikum Crossing Bridge   \n",
      "\n",
      "                                                               2  \\\n",
      "0                                                                  \n",
      "detector_description                        Inbound towards West   \n",
      "flow_detector_id                                            1904   \n",
      "detector_make                                         EcoCounter   \n",
      "detector_name                            Tilikum Crossing (EAST)   \n",
      "facility_description  North bike lane of Tilikum Crossing Bridge   \n",
      "\n",
      "                                                               3  \n",
      "0                                                                 \n",
      "detector_description                        Inbound towards West  \n",
      "flow_detector_id                                            1905  \n",
      "detector_make                                         EcoCounter  \n",
      "detector_name                              Tilikum Crossing 2 WB  \n",
      "facility_description  North bike lane of Tilikum Crossing Bridge  \n"
     ]
    }
   ],
   "source": [
    "tm = tm.loc[['detector_description', 'flow_detector_id', 'detector_make', 'detector_name', 'facility_description'], :]\n",
    "\n",
    "print(tm)"
   ]
  },
  {
   "cell_type": "code",
   "execution_count": 21,
   "id": "cee0055c",
   "metadata": {},
   "outputs": [
    {
     "data": {
      "text/plain": [
       "0"
      ]
     },
     "execution_count": 21,
     "metadata": {},
     "output_type": "execute_result"
    }
   ],
   "source": [
    "(td.flow_detector_id==1904).sum()"
   ]
  },
  {
   "cell_type": "code",
   "execution_count": 38,
   "id": "95214dfc",
   "metadata": {},
   "outputs": [],
   "source": [
    "tE = td.loc[td['flow_detector_id']==1903, ['time', 'volume']]\n",
    "tE.index = pd.DatetimeIndex(pd.to_datetime(tE['time'])).tz_convert('US/Pacific')\n",
    "tE = tE.drop(columns=['time']).rename(columns={'volume':'Eastbound'})"
   ]
  },
  {
   "cell_type": "code",
   "execution_count": 39,
   "id": "46016741",
   "metadata": {},
   "outputs": [],
   "source": [
    "tW = td.loc[td['flow_detector_id'] == 1905, ['time', 'volume']]\n",
    "tW['time'] = pd.to_datetime(tW['time'])\n",
    "tW['time'] = tW['time'].dt.tz_localize('UTC')\n",
    "tW['time'] = tW['time'].dt.tz_convert('US/Pacific')\n",
    "tW.set_index('time', inplace=False)\n",
    "tW = tW.rename(columns={'volume': 'Westbound'})"
   ]
  },
  {
   "cell_type": "code",
   "execution_count": 43,
   "id": "cce6f0a1",
   "metadata": {},
   "outputs": [
    {
     "data": {
      "image/png": "[encoded data removed]",
      "text/plain": [
       "<Figure size 640x480 with 1 Axes>"
      ]
     },
     "metadata": {},
     "output_type": "display_data"
    }
   ],
   "source": [
    "tE.plot();"
   ]
  },
  {
   "cell_type": "code",
   "execution_count": 44,
   "id": "d6269bd5",
   "metadata": {},
   "outputs": [
    {
     "data": {
      "image/png": "[encoded data removed]",
      "text/plain": [
       "<Figure size 640x480 with 1 Axes>"
      ]
     },
     "metadata": {},
     "output_type": "display_data"
    }
   ],
   "source": [
    " tE['2018-11-25':'2019-06-01'].plot();"
   ]
  },
  {
   "cell_type": "code",
   "execution_count": 45,
   "id": "4e36bc00",
   "metadata": {},
   "outputs": [],
   "source": [
    "tE['2018-11-25':'2019-06-01'] = np.nan"
   ]
  },
  {
   "cell_type": "code",
   "execution_count": null,
   "id": "10fcde94",
   "metadata": {},
   "outputs": [],
   "source": [
    "tE[tE > 1000] = np.nan\n",
    "tW[tW > 1000] = np.nan"
   ]
  },
  {
   "cell_type": "code",
   "execution_count": null,
   "id": "91dc5b06",
   "metadata": {},
   "outputs": [],
   "source": [
    "t = pd.merge(tE, tW, on='time')\n",
    "t.plot(alpha=0.7, style=['-',':']);"
   ]
  },
  {
   "cell_type": "code",
   "execution_count": null,
   "id": "73948328",
   "metadata": {},
   "outputs": [],
   "source": [
    "t.resample('W').sum().plot(style=['-',':'], title='Weekly bike counts on Tilikum');"
   ]
  },
  {
   "cell_type": "code",
   "execution_count": null,
   "id": "14dce1bd",
   "metadata": {},
   "outputs": [],
   "source": [
    "def weekplot(d, onlyweekend=False, title=None):\n",
    "    weekend = np.where(d.index.weekday < 5, 'Weekday', 'Weekend')\n",
    "    by_time = d.groupby([weekend, d.index.time]).mean()\n",
    "    if onlyweekend:\n",
    "        if title is None: title = 'Bikes per 15-min during weekends'\n",
    "        by_time.loc['Weekend'].plot(title=title)\n",
    "        else:\n",
    "            if title is None: title = 'Bikes per 15-min during weekdays'\n",
    "            by_time.loc['Weekday'].plot(title=title)\n",
    "weekplot(t)"
   ]
  },
  {
   "cell_type": "code",
   "execution_count": null,
   "id": "41f85196",
   "metadata": {},
   "outputs": [],
   "source": [
    "weekplot(t, onlyweekend=True)"
   ]
  },
  {
   "cell_type": "code",
   "execution_count": null,
   "id": "d29a02ae",
   "metadata": {},
   "outputs": [],
   "source": [
    "weekplot(t.loc[:'2020-03-17'], title='Before social distancing')"
   ]
  },
  {
   "cell_type": "code",
   "execution_count": null,
   "id": "99062086",
   "metadata": {},
   "outputs": [],
   "source": [
    "weekplot(t.loc['2020-03-17':], title='After social distancing')"
   ]
  },
  {
   "cell_type": "code",
   "execution_count": null,
   "id": "80a475ac",
   "metadata": {},
   "outputs": [],
   "source": [
    "t.loc[:'2020-03-17'].mean() - t.loc['2020-03-17':].mean()"
   ]
  },
  {
   "cell_type": "code",
   "execution_count": null,
   "id": "df11ccc4",
   "metadata": {},
   "outputs": [],
   "source": [
    "t.loc[:'2020-03-17'].resample('W').sum().mean() - t.loc['2020-03-17':].resample('W').sum().mean()"
   ]
  },
  {
   "cell_type": "code",
   "execution_count": 55,
   "id": "9d988cdf",
   "metadata": {},
   "outputs": [],
   "source": [
    "import os\n",
    "import shutil\n",
    "import urllib\n",
    "\n",
    "url = \"https://data.seattle.gov/api/views/65db-xm6k/rows.csv?accessType=DOWNLOAD\"\n",
    "f = \"C:/Users/saika/Fremont_Bridge_Bicycle_Counter.csv\"\n",
    "\n",
    "# Create directory if it doesn't exist\n",
    "os.makedirs(os.path.dirname(f), exist_ok=True)\n",
    "\n",
    "# Download the file if it doesn't exist\n",
    "if not os.path.exists(f):\n",
    "    with urllib.request.urlopen(url) as response, open(f, 'wb') as out_file:\n",
    "        shutil.copyfileobj(response, out_file)\n"
   ]
  },
  {
   "cell_type": "code",
   "execution_count": 56,
   "id": "f947648c",
   "metadata": {},
   "outputs": [
    {
     "data": {
      "text/html": [
       "<div>\n",
       "<style scoped>\n",
       "    .dataframe tbody tr th:only-of-type {\n",
       "        vertical-align: middle;\n",
       "    }\n",
       "\n",
       "    .dataframe tbody tr th {\n",
       "        vertical-align: top;\n",
       "    }\n",
       "\n",
       "    .dataframe thead th {\n",
       "        text-align: right;\n",
       "    }\n",
       "</style>\n",
       "<table border=\"1\" class=\"dataframe\">\n",
       "  <thead>\n",
       "    <tr style=\"text-align: right;\">\n",
       "      <th></th>\n",
       "      <th>Date</th>\n",
       "      <th>Fremont Bridge Sidewalks, south of N 34th St</th>\n",
       "      <th>Fremont Bridge Sidewalks, south of N 34th St Cyclist East Sidewalk</th>\n",
       "      <th>Fremont Bridge Sidewalks, south of N 34th St Cyclist West Sidewalk</th>\n",
       "    </tr>\n",
       "  </thead>\n",
       "  <tbody>\n",
       "    <tr>\n",
       "      <th>95635</th>\n",
       "      <td>08/31/2023 07:00:00 PM</td>\n",
       "      <td>224.0</td>\n",
       "      <td>72.0</td>\n",
       "      <td>152.0</td>\n",
       "    </tr>\n",
       "    <tr>\n",
       "      <th>95636</th>\n",
       "      <td>08/31/2023 08:00:00 PM</td>\n",
       "      <td>142.0</td>\n",
       "      <td>59.0</td>\n",
       "      <td>83.0</td>\n",
       "    </tr>\n",
       "    <tr>\n",
       "      <th>95637</th>\n",
       "      <td>08/31/2023 09:00:00 PM</td>\n",
       "      <td>67.0</td>\n",
       "      <td>35.0</td>\n",
       "      <td>32.0</td>\n",
       "    </tr>\n",
       "    <tr>\n",
       "      <th>95638</th>\n",
       "      <td>08/31/2023 10:00:00 PM</td>\n",
       "      <td>43.0</td>\n",
       "      <td>18.0</td>\n",
       "      <td>25.0</td>\n",
       "    </tr>\n",
       "    <tr>\n",
       "      <th>95639</th>\n",
       "      <td>08/31/2023 11:00:00 PM</td>\n",
       "      <td>12.0</td>\n",
       "      <td>8.0</td>\n",
       "      <td>4.0</td>\n",
       "    </tr>\n",
       "  </tbody>\n",
       "</table>\n",
       "</div>"
      ],
      "text/plain": [
       "                         Date  Fremont Bridge Sidewalks, south of N 34th St  \\\n",
       "95635  08/31/2023 07:00:00 PM                                         224.0   \n",
       "95636  08/31/2023 08:00:00 PM                                         142.0   \n",
       "95637  08/31/2023 09:00:00 PM                                          67.0   \n",
       "95638  08/31/2023 10:00:00 PM                                          43.0   \n",
       "95639  08/31/2023 11:00:00 PM                                          12.0   \n",
       "\n",
       "       Fremont Bridge Sidewalks, south of N 34th St Cyclist East Sidewalk  \\\n",
       "95635                                               72.0                    \n",
       "95636                                               59.0                    \n",
       "95637                                               35.0                    \n",
       "95638                                               18.0                    \n",
       "95639                                                8.0                    \n",
       "\n",
       "       Fremont Bridge Sidewalks, south of N 34th St Cyclist West Sidewalk  \n",
       "95635                                              152.0                   \n",
       "95636                                               83.0                   \n",
       "95637                                               32.0                   \n",
       "95638                                               25.0                   \n",
       "95639                                                4.0                   "
      ]
     },
     "execution_count": 56,
     "metadata": {},
     "output_type": "execute_result"
    }
   ],
   "source": [
    "sd = pd.read_csv(f)\n",
    "sd.tail()"
   ]
  },
  {
   "cell_type": "code",
   "execution_count": null,
   "id": "b5eae323",
   "metadata": {},
   "outputs": [],
   "source": [
    "sd = sd.rename(columns={'Date' : 'time',\n",
    "                        'Fremont Bridge East Sidewalk' : 'East',\n",
    "                        'Fremont Bridge West Sidewalk' : 'West'})\n",
    "sd.index = pd.to_datetime(sd.loc[:, 'time'])\n",
    "sd = sd.drop(columns=['time', 'Fremont Bridge Total'])\n",
    "sd.head()"
   ]
  },
  {
   "cell_type": "code",
   "execution_count": null,
   "id": "52ab0b6f",
   "metadata": {},
   "outputs": [],
   "source": [
    "th = t.resample('H').sum()\n",
    "th.describe() # Portland's Tilikum"
   ]
  },
  {
   "cell_type": "code",
   "execution_count": null,
   "id": "15291aff",
   "metadata": {},
   "outputs": [],
   "source": [
    "sd.describe() # Seattle's Fremont"
   ]
  },
  {
   "cell_type": "code",
   "execution_count": null,
   "id": "63040ffc",
   "metadata": {},
   "outputs": [],
   "source": [
    "sw = sd.resample('W').sum()\n",
    "tw = t.resample('W').sum()\n",
    "fig, axs = plt.subplots(1, 2, figsize=(13, 3), sharey=True)\n",
    "plt.subplots_adjust(wspace=0.05)"
   ]
  },
  {
   "cell_type": "code",
   "execution_count": null,
   "id": "140b46c4",
   "metadata": {},
   "outputs": [],
   "source": [
    "sw.plot(ax=axs[0], title='Fremont bridge (Seattle) bikes/week');\n",
    "tw.plot(ax=axs[1], title='Tilikum bridge (Portland) bikes/week');"
   ]
  },
  {
   "cell_type": "code",
   "execution_count": null,
   "id": "c07a95e7",
   "metadata": {},
   "outputs": [],
   "source": [
    "weekplot(sd, title='Fremont (Seattle) on weekdays (Bikes/hr)')\n",
    "weekplot(th, title='Tilikum (Portland) on weekdays (Bikes/hr)')"
   ]
  },
  {
   "cell_type": "code",
   "execution_count": null,
   "id": "1c0032b2",
   "metadata": {},
   "outputs": [],
   "source": [
    "weekplot(sd['2020-03-17':], title='Fremont (Seattle): Weekdays after social distancing'); plt.ylabel('Bikes/hour');\n",
    "weekplot(th['2020-03-17':], title='Tilikum (Portland): Weekdays after social distancing'); plt.ylabel('Bikes/hour');"
   ]
  }
 ],
 "metadata": {
  "kernelspec": {
   "display_name": "Python 3 (ipykernel)",
   "language": "python",
   "name": "python3"
  },
  "language_info": {
   "codemirror_mode": {
    "name": "ipython",
    "version": 3
   },
   "file_extension": ".py",
   "mimetype": "text/x-python",
   "name": "python",
   "nbconvert_exporter": "python",
   "pygments_lexer": "ipython3",
   "version": "3.11.3"
  }
 },
 "nbformat": 4,
 "nbformat_minor": 5
}
