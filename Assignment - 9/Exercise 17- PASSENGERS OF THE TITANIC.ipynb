{
  "nbformat": 4,
  "nbformat_minor": 0,
  "metadata": {
    "colab": {
      "provenance": []
    },
    "kernelspec": {
      "name": "python3",
      "display_name": "Python 3"
    },
    "language_info": {
      "name": "python"
    }
  },
  "cells": [
    {
      "cell_type": "code",
      "execution_count": 1,
      "metadata": {
        "id": "Hp9LjTa2Fa5k"
      },
      "outputs": [],
      "source": [
        "import numpy as np\n",
        "import pandas as pd\n",
        "import seaborn\n"
      ]
    },
    {
      "cell_type": "code",
      "source": [
        "t = seaborn.load_dataset('titanic')\n",
        "t.head()"
      ],
      "metadata": {
        "colab": {
          "base_uri": "https://localhost:8080/",
          "height": 206
        },
        "id": "tbufwqP7GPv7",
        "outputId": "ff84ef03-ec04-41a0-a86f-e59212c80199"
      },
      "execution_count": 2,
      "outputs": [
        {
          "output_type": "execute_result",
          "data": {
            "text/plain": [
              "   survived  pclass     sex   age  sibsp  parch     fare embarked  class  \\\n",
              "0         0       3    male  22.0      1      0   7.2500        S  Third   \n",
              "1         1       1  female  38.0      1      0  71.2833        C  First   \n",
              "2         1       3  female  26.0      0      0   7.9250        S  Third   \n",
              "3         1       1  female  35.0      1      0  53.1000        S  First   \n",
              "4         0       3    male  35.0      0      0   8.0500        S  Third   \n",
              "\n",
              "     who  adult_male deck  embark_town alive  alone  \n",
              "0    man        True  NaN  Southampton    no  False  \n",
              "1  woman       False    C    Cherbourg   yes  False  \n",
              "2  woman       False  NaN  Southampton   yes   True  \n",
              "3  woman       False    C  Southampton   yes  False  \n",
              "4    man        True  NaN  Southampton    no   True  "
            ],
            "text/html": [
              "\n",
              "  <div id=\"df-f3644158-406d-42f1-8d62-8e4e035fc9c6\" class=\"colab-df-container\">\n",
              "    <div>\n",
              "<style scoped>\n",
              "    .dataframe tbody tr th:only-of-type {\n",
              "        vertical-align: middle;\n",
              "    }\n",
              "\n",
              "    .dataframe tbody tr th {\n",
              "        vertical-align: top;\n",
              "    }\n",
              "\n",
              "    .dataframe thead th {\n",
              "        text-align: right;\n",
              "    }\n",
              "</style>\n",
              "<table border=\"1\" class=\"dataframe\">\n",
              "  <thead>\n",
              "    <tr style=\"text-align: right;\">\n",
              "      <th></th>\n",
              "      <th>survived</th>\n",
              "      <th>pclass</th>\n",
              "      <th>sex</th>\n",
              "      <th>age</th>\n",
              "      <th>sibsp</th>\n",
              "      <th>parch</th>\n",
              "      <th>fare</th>\n",
              "      <th>embarked</th>\n",
              "      <th>class</th>\n",
              "      <th>who</th>\n",
              "      <th>adult_male</th>\n",
              "      <th>deck</th>\n",
              "      <th>embark_town</th>\n",
              "      <th>alive</th>\n",
              "      <th>alone</th>\n",
              "    </tr>\n",
              "  </thead>\n",
              "  <tbody>\n",
              "    <tr>\n",
              "      <th>0</th>\n",
              "      <td>0</td>\n",
              "      <td>3</td>\n",
              "      <td>male</td>\n",
              "      <td>22.0</td>\n",
              "      <td>1</td>\n",
              "      <td>0</td>\n",
              "      <td>7.2500</td>\n",
              "      <td>S</td>\n",
              "      <td>Third</td>\n",
              "      <td>man</td>\n",
              "      <td>True</td>\n",
              "      <td>NaN</td>\n",
              "      <td>Southampton</td>\n",
              "      <td>no</td>\n",
              "      <td>False</td>\n",
              "    </tr>\n",
              "    <tr>\n",
              "      <th>1</th>\n",
              "      <td>1</td>\n",
              "      <td>1</td>\n",
              "      <td>female</td>\n",
              "      <td>38.0</td>\n",
              "      <td>1</td>\n",
              "      <td>0</td>\n",
              "      <td>71.2833</td>\n",
              "      <td>C</td>\n",
              "      <td>First</td>\n",
              "      <td>woman</td>\n",
              "      <td>False</td>\n",
              "      <td>C</td>\n",
              "      <td>Cherbourg</td>\n",
              "      <td>yes</td>\n",
              "      <td>False</td>\n",
              "    </tr>\n",
              "    <tr>\n",
              "      <th>2</th>\n",
              "      <td>1</td>\n",
              "      <td>3</td>\n",
              "      <td>female</td>\n",
              "      <td>26.0</td>\n",
              "      <td>0</td>\n",
              "      <td>0</td>\n",
              "      <td>7.9250</td>\n",
              "      <td>S</td>\n",
              "      <td>Third</td>\n",
              "      <td>woman</td>\n",
              "      <td>False</td>\n",
              "      <td>NaN</td>\n",
              "      <td>Southampton</td>\n",
              "      <td>yes</td>\n",
              "      <td>True</td>\n",
              "    </tr>\n",
              "    <tr>\n",
              "      <th>3</th>\n",
              "      <td>1</td>\n",
              "      <td>1</td>\n",
              "      <td>female</td>\n",
              "      <td>35.0</td>\n",
              "      <td>1</td>\n",
              "      <td>0</td>\n",
              "      <td>53.1000</td>\n",
              "      <td>S</td>\n",
              "      <td>First</td>\n",
              "      <td>woman</td>\n",
              "      <td>False</td>\n",
              "      <td>C</td>\n",
              "      <td>Southampton</td>\n",
              "      <td>yes</td>\n",
              "      <td>False</td>\n",
              "    </tr>\n",
              "    <tr>\n",
              "      <th>4</th>\n",
              "      <td>0</td>\n",
              "      <td>3</td>\n",
              "      <td>male</td>\n",
              "      <td>35.0</td>\n",
              "      <td>0</td>\n",
              "      <td>0</td>\n",
              "      <td>8.0500</td>\n",
              "      <td>S</td>\n",
              "      <td>Third</td>\n",
              "      <td>man</td>\n",
              "      <td>True</td>\n",
              "      <td>NaN</td>\n",
              "      <td>Southampton</td>\n",
              "      <td>no</td>\n",
              "      <td>True</td>\n",
              "    </tr>\n",
              "  </tbody>\n",
              "</table>\n",
              "</div>\n",
              "    <div class=\"colab-df-buttons\">\n",
              "\n",
              "  <div class=\"colab-df-container\">\n",
              "    <button class=\"colab-df-convert\" onclick=\"convertToInteractive('df-f3644158-406d-42f1-8d62-8e4e035fc9c6')\"\n",
              "            title=\"Convert this dataframe to an interactive table.\"\n",
              "            style=\"display:none;\">\n",
              "\n",
              "  <svg xmlns=\"http://www.w3.org/2000/svg\" height=\"24px\" viewBox=\"0 -960 960 960\">\n",
              "    <path d=\"M120-120v-720h720v720H120Zm60-500h600v-160H180v160Zm220 220h160v-160H400v160Zm0 220h160v-160H400v160ZM180-400h160v-160H180v160Zm440 0h160v-160H620v160ZM180-180h160v-160H180v160Zm440 0h160v-160H620v160Z\"/>\n",
              "  </svg>\n",
              "    </button>\n",
              "\n",
              "  <style>\n",
              "    .colab-df-container {\n",
              "      display:flex;\n",
              "      gap: 12px;\n",
              "    }\n",
              "\n",
              "    .colab-df-convert {\n",
              "      background-color: #E8F0FE;\n",
              "      border: none;\n",
              "      border-radius: 50%;\n",
              "      cursor: pointer;\n",
              "      display: none;\n",
              "      fill: #1967D2;\n",
              "      height: 32px;\n",
              "      padding: 0 0 0 0;\n",
              "      width: 32px;\n",
              "    }\n",
              "\n",
              "    .colab-df-convert:hover {\n",
              "      background-color: #E2EBFA;\n",
              "      box-shadow: 0px 1px 2px rgba(60, 64, 67, 0.3), 0px 1px 3px 1px rgba(60, 64, 67, 0.15);\n",
              "      fill: #174EA6;\n",
              "    }\n",
              "\n",
              "    .colab-df-buttons div {\n",
              "      margin-bottom: 4px;\n",
              "    }\n",
              "\n",
              "    [theme=dark] .colab-df-convert {\n",
              "      background-color: #3B4455;\n",
              "      fill: #D2E3FC;\n",
              "    }\n",
              "\n",
              "    [theme=dark] .colab-df-convert:hover {\n",
              "      background-color: #434B5C;\n",
              "      box-shadow: 0px 1px 3px 1px rgba(0, 0, 0, 0.15);\n",
              "      filter: drop-shadow(0px 1px 2px rgba(0, 0, 0, 0.3));\n",
              "      fill: #FFFFFF;\n",
              "    }\n",
              "  </style>\n",
              "\n",
              "    <script>\n",
              "      const buttonEl =\n",
              "        document.querySelector('#df-f3644158-406d-42f1-8d62-8e4e035fc9c6 button.colab-df-convert');\n",
              "      buttonEl.style.display =\n",
              "        google.colab.kernel.accessAllowed ? 'block' : 'none';\n",
              "\n",
              "      async function convertToInteractive(key) {\n",
              "        const element = document.querySelector('#df-f3644158-406d-42f1-8d62-8e4e035fc9c6');\n",
              "        const dataTable =\n",
              "          await google.colab.kernel.invokeFunction('convertToInteractive',\n",
              "                                                    [key], {});\n",
              "        if (!dataTable) return;\n",
              "\n",
              "        const docLinkHtml = 'Like what you see? Visit the ' +\n",
              "          '<a target=\"_blank\" href=https://colab.research.google.com/notebooks/data_table.ipynb>data table notebook</a>'\n",
              "          + ' to learn more about interactive tables.';\n",
              "        element.innerHTML = '';\n",
              "        dataTable['output_type'] = 'display_data';\n",
              "        await google.colab.output.renderOutput(dataTable, element);\n",
              "        const docLink = document.createElement('div');\n",
              "        docLink.innerHTML = docLinkHtml;\n",
              "        element.appendChild(docLink);\n",
              "      }\n",
              "    </script>\n",
              "  </div>\n",
              "\n",
              "\n",
              "<div id=\"df-7ed559e9-8d9d-4031-aac8-77556cec84d9\">\n",
              "  <button class=\"colab-df-quickchart\" onclick=\"quickchart('df-7ed559e9-8d9d-4031-aac8-77556cec84d9')\"\n",
              "            title=\"Suggest charts.\"\n",
              "            style=\"display:none;\">\n",
              "\n",
              "<svg xmlns=\"http://www.w3.org/2000/svg\" height=\"24px\"viewBox=\"0 0 24 24\"\n",
              "     width=\"24px\">\n",
              "    <g>\n",
              "        <path d=\"M19 3H5c-1.1 0-2 .9-2 2v14c0 1.1.9 2 2 2h14c1.1 0 2-.9 2-2V5c0-1.1-.9-2-2-2zM9 17H7v-7h2v7zm4 0h-2V7h2v10zm4 0h-2v-4h2v4z\"/>\n",
              "    </g>\n",
              "</svg>\n",
              "  </button>\n",
              "\n",
              "<style>\n",
              "  .colab-df-quickchart {\n",
              "      --bg-color: #E8F0FE;\n",
              "      --fill-color: #1967D2;\n",
              "      --hover-bg-color: #E2EBFA;\n",
              "      --hover-fill-color: #174EA6;\n",
              "      --disabled-fill-color: #AAA;\n",
              "      --disabled-bg-color: #DDD;\n",
              "  }\n",
              "\n",
              "  [theme=dark] .colab-df-quickchart {\n",
              "      --bg-color: #3B4455;\n",
              "      --fill-color: #D2E3FC;\n",
              "      --hover-bg-color: #434B5C;\n",
              "      --hover-fill-color: #FFFFFF;\n",
              "      --disabled-bg-color: #3B4455;\n",
              "      --disabled-fill-color: #666;\n",
              "  }\n",
              "\n",
              "  .colab-df-quickchart {\n",
              "    background-color: var(--bg-color);\n",
              "    border: none;\n",
              "    border-radius: 50%;\n",
              "    cursor: pointer;\n",
              "    display: none;\n",
              "    fill: var(--fill-color);\n",
              "    height: 32px;\n",
              "    padding: 0;\n",
              "    width: 32px;\n",
              "  }\n",
              "\n",
              "  .colab-df-quickchart:hover {\n",
              "    background-color: var(--hover-bg-color);\n",
              "    box-shadow: 0 1px 2px rgba(60, 64, 67, 0.3), 0 1px 3px 1px rgba(60, 64, 67, 0.15);\n",
              "    fill: var(--button-hover-fill-color);\n",
              "  }\n",
              "\n",
              "  .colab-df-quickchart-complete:disabled,\n",
              "  .colab-df-quickchart-complete:disabled:hover {\n",
              "    background-color: var(--disabled-bg-color);\n",
              "    fill: var(--disabled-fill-color);\n",
              "    box-shadow: none;\n",
              "  }\n",
              "\n",
              "  .colab-df-spinner {\n",
              "    border: 2px solid var(--fill-color);\n",
              "    border-color: transparent;\n",
              "    border-bottom-color: var(--fill-color);\n",
              "    animation:\n",
              "      spin 1s steps(1) infinite;\n",
              "  }\n",
              "\n",
              "  @keyframes spin {\n",
              "    0% {\n",
              "      border-color: transparent;\n",
              "      border-bottom-color: var(--fill-color);\n",
              "      border-left-color: var(--fill-color);\n",
              "    }\n",
              "    20% {\n",
              "      border-color: transparent;\n",
              "      border-left-color: var(--fill-color);\n",
              "      border-top-color: var(--fill-color);\n",
              "    }\n",
              "    30% {\n",
              "      border-color: transparent;\n",
              "      border-left-color: var(--fill-color);\n",
              "      border-top-color: var(--fill-color);\n",
              "      border-right-color: var(--fill-color);\n",
              "    }\n",
              "    40% {\n",
              "      border-color: transparent;\n",
              "      border-right-color: var(--fill-color);\n",
              "      border-top-color: var(--fill-color);\n",
              "    }\n",
              "    60% {\n",
              "      border-color: transparent;\n",
              "      border-right-color: var(--fill-color);\n",
              "    }\n",
              "    80% {\n",
              "      border-color: transparent;\n",
              "      border-right-color: var(--fill-color);\n",
              "      border-bottom-color: var(--fill-color);\n",
              "    }\n",
              "    90% {\n",
              "      border-color: transparent;\n",
              "      border-bottom-color: var(--fill-color);\n",
              "    }\n",
              "  }\n",
              "</style>\n",
              "\n",
              "  <script>\n",
              "    async function quickchart(key) {\n",
              "      const quickchartButtonEl =\n",
              "        document.querySelector('#' + key + ' button');\n",
              "      quickchartButtonEl.disabled = true;  // To prevent multiple clicks.\n",
              "      quickchartButtonEl.classList.add('colab-df-spinner');\n",
              "      try {\n",
              "        const charts = await google.colab.kernel.invokeFunction(\n",
              "            'suggestCharts', [key], {});\n",
              "      } catch (error) {\n",
              "        console.error('Error during call to suggestCharts:', error);\n",
              "      }\n",
              "      quickchartButtonEl.classList.remove('colab-df-spinner');\n",
              "      quickchartButtonEl.classList.add('colab-df-quickchart-complete');\n",
              "    }\n",
              "    (() => {\n",
              "      let quickchartButtonEl =\n",
              "        document.querySelector('#df-7ed559e9-8d9d-4031-aac8-77556cec84d9 button');\n",
              "      quickchartButtonEl.style.display =\n",
              "        google.colab.kernel.accessAllowed ? 'block' : 'none';\n",
              "    })();\n",
              "  </script>\n",
              "</div>\n",
              "    </div>\n",
              "  </div>\n"
            ]
          },
          "metadata": {},
          "execution_count": 2
        }
      ]
    },
    {
      "cell_type": "code",
      "source": [
        "#  Tasks: The exercise is to answer the following questions."
      ],
      "metadata": {
        "id": "BgT6VUb8GeMw"
      },
      "execution_count": 3,
      "outputs": []
    },
    {
      "cell_type": "code",
      "source": [
        "# Q-1 :  How many passengers are described in the data set?\n",
        "\n",
        "num_passengers = len(t)\n",
        "print(f'There are {num_passengers} passengers described in the dataset.')"
      ],
      "metadata": {
        "colab": {
          "base_uri": "https://localhost:8080/"
        },
        "id": "psr9UoelK5Jg",
        "outputId": "d9447154-d895-472e-a3e1-726f69c2c23e"
      },
      "execution_count": 4,
      "outputs": [
        {
          "output_type": "stream",
          "name": "stdout",
          "text": [
            "There are 891 passengers described in the dataset.\n"
          ]
        }
      ]
    },
    {
      "cell_type": "code",
      "source": [
        "# Q-2 : How many distinct values are in who column?\n",
        "\n",
        "num_distinct_who_values = t['who'].nunique()\n",
        "print(f'There are {num_distinct_who_values} distinct values in the \"who\" column.')"
      ],
      "metadata": {
        "colab": {
          "base_uri": "https://localhost:8080/"
        },
        "id": "iMWAtNfYLjmW",
        "outputId": "13467e2d-a767-4a59-ef91-bbd9801a9c3a"
      },
      "execution_count": 5,
      "outputs": [
        {
          "output_type": "stream",
          "name": "stdout",
          "text": [
            "There are 3 distinct values in the \"who\" column.\n"
          ]
        }
      ]
    },
    {
      "cell_type": "code",
      "source": [
        "# Q-3 : How many missing values do you fnd in each data column?\n",
        "\n",
        "missing_values = t.isna().sum()\n",
        "print('Missing values in each data column:',missing_values)"
      ],
      "metadata": {
        "colab": {
          "base_uri": "https://localhost:8080/"
        },
        "id": "ycMYUuU8M4Jt",
        "outputId": "fdfef471-2053-4884-b2d2-9bba07321417"
      },
      "execution_count": 6,
      "outputs": [
        {
          "output_type": "stream",
          "name": "stdout",
          "text": [
            "Missing values in each data column: survived         0\n",
            "pclass           0\n",
            "sex              0\n",
            "age            177\n",
            "sibsp            0\n",
            "parch            0\n",
            "fare             0\n",
            "embarked         2\n",
            "class            0\n",
            "who              0\n",
            "adult_male       0\n",
            "deck           688\n",
            "embark_town      2\n",
            "alive            0\n",
            "alone            0\n",
            "dtype: int64\n"
          ]
        }
      ]
    },
    {
      "cell_type": "code",
      "source": [
        "# Q-4 : Does the data contain passengers over 60 old? How many?\n",
        "\n",
        "passengers_over_60 = t[t['age'] > 60]\n",
        "num_passengers_over_60 = len(passengers_over_60)\n",
        "\n",
        "if num_passengers_over_60 > 0:\n",
        "    print(f'Yes, there are {num_passengers_over_60} passengers over 60 years old.')\n",
        "else:\n",
        "    print('No passengers over 60 years old found in the dataset.')"
      ],
      "metadata": {
        "colab": {
          "base_uri": "https://localhost:8080/"
        },
        "id": "uMtZMWlgNpXc",
        "outputId": "a917db9c-ab73-47fa-eb0c-8b7d423e73a9"
      },
      "execution_count": 7,
      "outputs": [
        {
          "output_type": "stream",
          "name": "stdout",
          "text": [
            "Yes, there are 22 passengers over 60 years old.\n"
          ]
        }
      ]
    },
    {
      "cell_type": "code",
      "source": [
        "# Q-5 : What is the passenger age distribution? (Plot it.)\n",
        "\n",
        "import matplotlib.pyplot as plt\n",
        "age_data = t['age'].dropna()\n",
        "# Create a histogram\n",
        "plt.hist(age_data, bins=20, edgecolor='red', alpha=0.7,color='yellow')\n",
        "\n",
        "# Add labels and title\n",
        "plt.xlabel('Age')\n",
        "plt.ylabel('Frequency')\n",
        "plt.title('Passenger Age Distribution')\n",
        "\n",
        "# Show the plot\n",
        "plt.show()\n"
      ],
      "metadata": {
        "colab": {
          "base_uri": "https://localhost:8080/",
          "height": 472
        },
        "id": "O4nfqSukOB1e",
        "outputId": "988d92fc-2eff-4735-9fe6-193e0f9d13bf"
      },
      "execution_count": 11,
      "outputs": [
        {
          "output_type": "display_data",
          "data": {
            "text/plain": [
              "<Figure size 640x480 with 1 Axes>"
            ],
            "image/png": "[encoded data removed]"
          },
          "metadata": {}
        }
      ]
    },
    {
      "cell_type": "code",
      "source": [
        "# Q-6 :  What are the 3-quantiles of the passenger age distribution?\n",
        "\n",
        "# Calculate quartiles\n",
        "q1 = age_data.quantile(0.25)\n",
        "q2 = age_data.quantile(0.50)\n",
        "q3 = age_data.quantile(0.75)\n",
        "\n",
        "print(f'1st Quartile (Q1): {q1}')\n",
        "print(f'2nd Quartile (Q2): {q2}')\n",
        "print(f'3rd Quartile (Q3): {q3}')\n"
      ],
      "metadata": {
        "colab": {
          "base_uri": "https://localhost:8080/"
        },
        "id": "49VT0R-pOdAW",
        "outputId": "f514fe52-8ba6-4b5d-dd30-5d1ff18612ec"
      },
      "execution_count": 12,
      "outputs": [
        {
          "output_type": "stream",
          "name": "stdout",
          "text": [
            "1st Quartile (Q1): 20.125\n",
            "2nd Quartile (Q2): 28.0\n",
            "3rd Quartile (Q3): 38.0\n"
          ]
        }
      ]
    },
    {
      "cell_type": "code",
      "source": [
        "# Q-7 :  How will you drop all passengers with no embarked data?\n",
        "\n",
        "t_cleaned = t.dropna(subset=['embarked'])"
      ],
      "metadata": {
        "id": "vT39euwePekF"
      },
      "execution_count": 13,
      "outputs": []
    },
    {
      "cell_type": "code",
      "source": [
        "# Q-8 : What is the average, minimum, and maximum fares paid by the passengers?\n",
        "\n",
        "average_fare = t['fare'].mean()\n",
        "minimum_fare = t['fare'].min()\n",
        "maximum_fare = t['fare'].max()\n",
        "\n",
        "print(f'Average Fare: {average_fare}')\n",
        "print(f'Minimum Fare: {minimum_fare}')\n",
        "print(f'Maximum Fare: {maximum_fare}')"
      ],
      "metadata": {
        "colab": {
          "base_uri": "https://localhost:8080/"
        },
        "id": "ye4SFArfP9CV",
        "outputId": "45901b58-2c42-4d27-c984-307b7eb30732"
      },
      "execution_count": 14,
      "outputs": [
        {
          "output_type": "stream",
          "name": "stdout",
          "text": [
            "Average Fare: 32.204207968574636\n",
            "Minimum Fare: 0.0\n",
            "Maximum Fare: 512.3292\n"
          ]
        }
      ]
    },
    {
      "cell_type": "code",
      "source": [
        "# Q-9 : What are the proportions of passengers in different classes?\n",
        "\n",
        "class_proportions = t['pclass'].value_counts(normalize=True) * 100\n",
        "\n",
        "print('Proportions of passengers in different classes:')\n",
        "print(class_proportions)"
      ],
      "metadata": {
        "colab": {
          "base_uri": "https://localhost:8080/"
        },
        "id": "Lnb5HyNDReYL",
        "outputId": "75dbce31-8928-4ae1-a260-2aa034811250"
      },
      "execution_count": 15,
      "outputs": [
        {
          "output_type": "stream",
          "name": "stdout",
          "text": [
            "Proportions of passengers in different classes:\n",
            "3    55.106622\n",
            "1    24.242424\n",
            "2    20.650954\n",
            "Name: pclass, dtype: float64\n"
          ]
        }
      ]
    },
    {
      "cell_type": "code",
      "source": [
        "# Q-10 : What is the female to male ratio in each travel class?\n",
        "\n",
        "# Group the data by 'sex' and 'pclass' and calculate the counts\n",
        "gender_counts = t.groupby(['sex', 'pclass']).size().reset_index(name='count')\n",
        "\n",
        "# Pivot the table to have 'sex' as columns\n",
        "gender_counts_pivot = gender_counts.pivot(index='pclass', columns='sex', values='count')\n",
        "\n",
        "# Calculate the female to male ratio\n",
        "female_to_male_ratio = gender_counts_pivot['female'] / gender_counts_pivot['male']\n",
        "\n",
        "print('Female to Male Ratio in Each Travel Class:')\n",
        "print(female_to_male_ratio)\n"
      ],
      "metadata": {
        "colab": {
          "base_uri": "https://localhost:8080/"
        },
        "id": "ipOjvfoXS25E",
        "outputId": "f00ac92d-8700-4dc2-bf18-ea1c7ff30966"
      },
      "execution_count": 16,
      "outputs": [
        {
          "output_type": "stream",
          "name": "stdout",
          "text": [
            "Female to Male Ratio in Each Travel Class:\n",
            "pclass\n",
            "1    0.770492\n",
            "2    0.703704\n",
            "3    0.414986\n",
            "dtype: float64\n"
          ]
        }
      ]
    },
    {
      "cell_type": "code",
      "source": [
        "# Q-11 :  What fraction survived?\n",
        "\n",
        "total_passengers = len(t)\n",
        "\n",
        "# Calculate the number of survivors\n",
        "survived_passengers = t['survived'].sum()\n",
        "\n",
        "# Calculate the fraction of passengers who survived\n",
        "survival_fraction = survived_passengers / total_passengers\n",
        "\n",
        "print(f'The fraction of passengers who survived is: {survival_fraction:.2f}')\n"
      ],
      "metadata": {
        "id": "eIKpp80nTt3j",
        "colab": {
          "base_uri": "https://localhost:8080/"
        },
        "outputId": "d78c85b0-37ba-49c6-c052-de9e05ab87b4"
      },
      "execution_count": 17,
      "outputs": [
        {
          "output_type": "stream",
          "name": "stdout",
          "text": [
            "The fraction of passengers who survived is: 0.38\n"
          ]
        }
      ]
    },
    {
      "cell_type": "code",
      "source": [
        "#  Q-12 :  Are the survival rates of male and female passengers different?\n",
        "\n",
        "# Calculate survival rates for male and female passengers\n",
        "survival_rate_male = t[t['sex'] == 'male']['survived'].mean()\n",
        "survival_rate_female = t[t['sex'] == 'female']['survived'].mean()\n",
        "\n",
        "# Print out the survival rates\n",
        "print(f'Survival rate for male passengers: {survival_rate_male:.2f}')\n",
        "print(f'Survival rate for female passengers: {survival_rate_female:.2f}')\n",
        "\n",
        "# conclusion\n",
        "if survival_rate_male == survival_rate_female :\n",
        "    print(f'Hence  the survival rates of male and female passengers is not different.')\n",
        "else:\n",
        "    print(f'Hence the survival rates of male and female passengers is  different.')"
      ],
      "metadata": {
        "id": "s48ZhZ9EUjIM",
        "colab": {
          "base_uri": "https://localhost:8080/"
        },
        "outputId": "ee456703-3e46-4bb7-c98a-13d622793e37"
      },
      "execution_count": 22,
      "outputs": [
        {
          "output_type": "stream",
          "name": "stdout",
          "text": [
            "Survival rate for male passengers: 0.19\n",
            "Survival rate for female passengers: 0.74\n",
            "Hence the survival rates of male and female passengers is  different.\n"
          ]
        }
      ]
    },
    {
      "cell_type": "code",
      "source": [
        "\n",
        "# Q-13 : Are the survival rates of frst, second, and third class passengers different?\n",
        "\n",
        "# Calculate survival rates for each class\n",
        "survival_rate_first_class = t[t['pclass'] == 1]['survived'].mean()\n",
        "survival_rate_second_class = t[t['pclass'] == 2]['survived'].mean()\n",
        "survival_rate_third_class = t[t['pclass'] == 3]['survived'].mean()\n",
        "\n",
        "print(f'Survival rate for first class passengers: {survival_rate_first_class:.2f}')\n",
        "print(f'Survival rate for second class passengers: {survival_rate_second_class:.2f}')\n",
        "print(f'Survival rate for third class passengers: {survival_rate_third_class:.2f}')\n",
        "\n",
        "# Conclusion\n",
        "if survival_rate_first_class == survival_rate_second_class == survival_rate_third_class :\n",
        "    print(f'Hence the survival rates of first, second, and third class passengers are not different .')\n",
        "else:\n",
        "    print(f'Hence the survival rates of first, second, and third class passengers are different .')"
      ],
      "metadata": {
        "colab": {
          "base_uri": "https://localhost:8080/"
        },
        "id": "U_5eREjDY1Fz",
        "outputId": "4d158b08-e65a-456d-efbc-68c85f8ef2c1"
      },
      "execution_count": 23,
      "outputs": [
        {
          "output_type": "stream",
          "name": "stdout",
          "text": [
            "Survival rate for first class passengers: 0.63\n",
            "Survival rate for second class passengers: 0.47\n",
            "Survival rate for third class passengers: 0.24\n",
            "Hence the survival rates of first, second, and third class passengers are different .\n"
          ]
        }
      ]
    },
    {
      "cell_type": "code",
      "source": [
        "# Q-14 : How can one print a table of survival rate dependencies on class and gender?\n",
        "\n",
        "survival_rates = t.groupby(['pclass', 'sex'])['survived'].mean()\n",
        "\n",
        "# Create a pivot table to format the data\n",
        "survival_table = survival_rates.reset_index().pivot_table(index='pclass', columns='sex', values='survived')\n",
        "\n",
        "# Print the table\n",
        "print(survival_table)"
      ],
      "metadata": {
        "id": "LflmhL3bZYRC",
        "colab": {
          "base_uri": "https://localhost:8080/"
        },
        "outputId": "5eba957e-07c2-4c83-8982-eb29d75ccbea"
      },
      "execution_count": 25,
      "outputs": [
        {
          "output_type": "stream",
          "name": "stdout",
          "text": [
            "sex       female      male\n",
            "pclass                    \n",
            "1       0.968085  0.368852\n",
            "2       0.921053  0.157407\n",
            "3       0.500000  0.135447\n"
          ]
        }
      ]
    },
    {
      "cell_type": "code",
      "source": [
        "# Q-15 : How can one print a table with number of survivors and average fare for each gender  and cabin?\n",
        "\n",
        "survivors_fare_stats = t.groupby(['sex', 'deck']).agg({'survived': 'sum', 'fare': 'mean'})\n",
        "print(survivors_fare_stats)\n",
        "\n"
      ],
      "metadata": {
        "colab": {
          "base_uri": "https://localhost:8080/"
        },
        "id": "7sJdqG8zw49X",
        "outputId": "cf62f0ae-8a84-4713-bc96-b17972d3803a"
      },
      "execution_count": 27,
      "outputs": [
        {
          "output_type": "stream",
          "name": "stdout",
          "text": [
            "             survived        fare\n",
            "sex    deck                      \n",
            "female A            1   39.600000\n",
            "       B           27  115.803085\n",
            "       C           24  117.226541\n",
            "       D           18   60.776628\n",
            "       E           14   56.414167\n",
            "       F            5   19.071660\n",
            "       G            2   13.581250\n",
            "male   A            6   39.625593\n",
            "       B            8  110.404380\n",
            "       C           11   85.744141\n",
            "       D            7   53.006113\n",
            "       E           10   36.861276\n",
            "       F            3   18.462500\n",
            "       G            0         NaN\n"
          ]
        }
      ]
    },
    {
      "cell_type": "code",
      "source": [],
      "metadata": {
        "id": "LagajbmhxwD1"
      },
      "execution_count": null,
      "outputs": []
    }
  ]
}